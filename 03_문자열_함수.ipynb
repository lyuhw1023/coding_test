{
  "cells": [
    {
      "cell_type": "markdown",
      "metadata": {
        "id": "9HC9KRKiPlu_"
      },
      "source": [
        "## 문자열 함수"
      ]
    },
    {
      "cell_type": "markdown",
      "metadata": {
        "id": "MhNoATH3c2Ra"
      },
      "source": [
        "```python\n",
        "str = \"hello world\"\n",
        "```"
      ]
    },
    {
      "cell_type": "markdown",
      "metadata": {
        "id": "CPwD1uHWcxi1"
      },
      "source": [
        "문자열 길이 구하기(len)\n",
        "\n"
      ]
    },
    {
      "cell_type": "code",
      "execution_count": null,
      "metadata": {
        "colab": {
          "base_uri": "https://localhost:8080/"
        },
        "id": "DWLwCn7Lceli",
        "outputId": "d116ee9e-87be-4cd9-e346-f31db8111357"
      },
      "outputs": [
        {
          "data": {
            "text/plain": [
              "11"
            ]
          },
          "execution_count": 24,
          "metadata": {},
          "output_type": "execute_result"
        }
      ],
      "source": [
        "# 문자열 길이 \n",
        "\n",
        "str = \"hello world\"\n",
        "len(str)"
      ]
    },
    {
      "cell_type": "code",
      "source": [
        "str = 'hello world'\n",
        "len(str)"
      ],
      "metadata": {
        "colab": {
          "base_uri": "https://localhost:8080/"
        },
        "id": "b_SzCHx0N7J2",
        "outputId": "43c7d193-aa6f-4295-bce8-104b3fa9e7e8"
      },
      "execution_count": null,
      "outputs": [
        {
          "output_type": "execute_result",
          "data": {
            "text/plain": [
              "11"
            ]
          },
          "metadata": {},
          "execution_count": 2
        }
      ]
    },
    {
      "cell_type": "markdown",
      "metadata": {
        "id": "VDugWfoFdKTw"
      },
      "source": [
        "특정 문자의 위치 찾기(find/index)\n",
        "\n",
        "\n",
        "\n"
      ]
    },
    {
      "cell_type": "code",
      "execution_count": null,
      "metadata": {
        "colab": {
          "base_uri": "https://localhost:8080/"
        },
        "id": "9hlh-MsJcowG",
        "outputId": "e1a186bc-4746-4646-d150-25c3fa4fa56e"
      },
      "outputs": [
        {
          "data": {
            "text/plain": [
              "4"
            ]
          },
          "execution_count": 26,
          "metadata": {},
          "output_type": "execute_result"
        }
      ],
      "source": [
        "# 특정 문자의 위치 찾기\n",
        "\n",
        "# find -> 찾는 문자가 없을 시 return -1\n",
        "find_str = str.find('o')\n",
        "find_str"
      ]
    },
    {
      "cell_type": "code",
      "source": [
        "find_str = str.find('o')\n",
        "find_str"
      ],
      "metadata": {
        "colab": {
          "base_uri": "https://localhost:8080/"
        },
        "id": "A6o-rKR6OEPU",
        "outputId": "aee9a9b6-39c8-4711-d534-9dd724623e69"
      },
      "execution_count": null,
      "outputs": [
        {
          "output_type": "execute_result",
          "data": {
            "text/plain": [
              "4"
            ]
          },
          "metadata": {},
          "execution_count": 3
        }
      ]
    },
    {
      "cell_type": "code",
      "execution_count": null,
      "metadata": {
        "id": "PDPrIbWYhBPD"
      },
      "outputs": [],
      "source": [
        "# index -> 찾는 문자가 없을 시 error\n",
        "find_str2 = str.index('z')\n",
        "find_str2"
      ]
    },
    {
      "cell_type": "code",
      "source": [
        "find_str2 = str.index('z')\n",
        "find_str2"
      ],
      "metadata": {
        "colab": {
          "base_uri": "https://localhost:8080/",
          "height": 192
        },
        "id": "OTAZUSB9OJeW",
        "outputId": "096fab11-da22-431e-8823-c35c18caeb28"
      },
      "execution_count": null,
      "outputs": [
        {
          "output_type": "error",
          "ename": "ValueError",
          "evalue": "ignored",
          "traceback": [
            "\u001b[0;31m---------------------------------------------------------------------------\u001b[0m",
            "\u001b[0;31mValueError\u001b[0m                                Traceback (most recent call last)",
            "\u001b[0;32m<ipython-input-4-9b2d8516d432>\u001b[0m in \u001b[0;36m<module>\u001b[0;34m()\u001b[0m\n\u001b[0;32m----> 1\u001b[0;31m \u001b[0mfind_str2\u001b[0m \u001b[0;34m=\u001b[0m \u001b[0mstr\u001b[0m\u001b[0;34m.\u001b[0m\u001b[0mindex\u001b[0m\u001b[0;34m(\u001b[0m\u001b[0;34m'z'\u001b[0m\u001b[0;34m)\u001b[0m\u001b[0;34m\u001b[0m\u001b[0;34m\u001b[0m\u001b[0m\n\u001b[0m\u001b[1;32m      2\u001b[0m \u001b[0mfind_str2\u001b[0m\u001b[0;34m\u001b[0m\u001b[0;34m\u001b[0m\u001b[0m\n",
            "\u001b[0;31mValueError\u001b[0m: substring not found"
          ]
        }
      ]
    },
    {
      "cell_type": "markdown",
      "metadata": {
        "id": "f1-RnyXodd4q"
      },
      "source": [
        "문자열을 대문자로 만들어주기(upper)"
      ]
    },
    {
      "cell_type": "code",
      "execution_count": null,
      "metadata": {
        "colab": {
          "base_uri": "https://localhost:8080/",
          "height": 35
        },
        "id": "90tIAFuydZzj",
        "outputId": "d24e771d-72fd-4fa8-fa10-87ae1c1c3939"
      },
      "outputs": [
        {
          "data": {
            "application/vnd.google.colaboratory.intrinsic+json": {
              "type": "string"
            },
            "text/plain": [
              "'HELLO WORLD'"
            ]
          },
          "execution_count": 29,
          "metadata": {},
          "output_type": "execute_result"
        }
      ],
      "source": [
        "upper_str = str.upper()\n",
        "upper_str"
      ]
    },
    {
      "cell_type": "code",
      "source": [
        "upper_str = str.upper()\n",
        "upper_str"
      ],
      "metadata": {
        "colab": {
          "base_uri": "https://localhost:8080/",
          "height": 35
        },
        "id": "0VF081HUOQuj",
        "outputId": "96c02ce5-198d-420e-8b2b-f32cbfbaa79f"
      },
      "execution_count": null,
      "outputs": [
        {
          "output_type": "execute_result",
          "data": {
            "application/vnd.google.colaboratory.intrinsic+json": {
              "type": "string"
            },
            "text/plain": [
              "'HELLO WORLD'"
            ]
          },
          "metadata": {},
          "execution_count": 5
        }
      ]
    },
    {
      "cell_type": "markdown",
      "metadata": {
        "id": "hvQApz7SdnhU"
      },
      "source": [
        "문자열을 소문자로 만들어주기(lower)"
      ]
    },
    {
      "cell_type": "code",
      "execution_count": null,
      "metadata": {
        "colab": {
          "base_uri": "https://localhost:8080/",
          "height": 35
        },
        "id": "-iiHClA0dkRV",
        "outputId": "9cf2724f-a063-474d-eca3-00edf74c1b86"
      },
      "outputs": [
        {
          "data": {
            "application/vnd.google.colaboratory.intrinsic+json": {
              "type": "string"
            },
            "text/plain": [
              "'hello world'"
            ]
          },
          "execution_count": 30,
          "metadata": {},
          "output_type": "execute_result"
        }
      ],
      "source": [
        "lower_str = str.lower()\n",
        "lower_str"
      ]
    },
    {
      "cell_type": "code",
      "source": [
        "lower_str = str.lower()\n",
        "lower_str"
      ],
      "metadata": {
        "colab": {
          "base_uri": "https://localhost:8080/",
          "height": 35
        },
        "id": "3A56GaYwOTz1",
        "outputId": "e380d088-8f66-4e88-c573-d05daa29a0cb"
      },
      "execution_count": null,
      "outputs": [
        {
          "output_type": "execute_result",
          "data": {
            "application/vnd.google.colaboratory.intrinsic+json": {
              "type": "string"
            },
            "text/plain": [
              "'hello world'"
            ]
          },
          "metadata": {},
          "execution_count": 6
        }
      ]
    },
    {
      "cell_type": "markdown",
      "metadata": {
        "id": "xCrrtr-ndvcC"
      },
      "source": [
        "양쪽 공백 없애기(strip)"
      ]
    },
    {
      "cell_type": "code",
      "execution_count": null,
      "metadata": {
        "id": "2qGjJZMvdvJL"
      },
      "outputs": [],
      "source": [
        "str2 = \" have a nice day! \""
      ]
    },
    {
      "cell_type": "code",
      "execution_count": null,
      "metadata": {
        "colab": {
          "base_uri": "https://localhost:8080/",
          "height": 35
        },
        "id": "G-KBdIAvdunq",
        "outputId": "d70ef182-5fd1-40ee-dc42-b2d048af40db"
      },
      "outputs": [
        {
          "data": {
            "application/vnd.google.colaboratory.intrinsic+json": {
              "type": "string"
            },
            "text/plain": [
              "'have a nice day!'"
            ]
          },
          "execution_count": 38,
          "metadata": {},
          "output_type": "execute_result"
        }
      ],
      "source": [
        "strip_str = str2.strip()\n",
        "strip_str"
      ]
    },
    {
      "cell_type": "code",
      "source": [
        "str2 = ' have a nice day! '\n",
        "strip_str = str2.strip()\n",
        "strip_str"
      ],
      "metadata": {
        "colab": {
          "base_uri": "https://localhost:8080/",
          "height": 35
        },
        "id": "ZriIop5AOW6j",
        "outputId": "968547b3-3fdd-4ed5-88d0-658c05d896a3"
      },
      "execution_count": null,
      "outputs": [
        {
          "output_type": "execute_result",
          "data": {
            "application/vnd.google.colaboratory.intrinsic+json": {
              "type": "string"
            },
            "text/plain": [
              "'have a nice day!'"
            ]
          },
          "metadata": {},
          "execution_count": 7
        }
      ]
    },
    {
      "cell_type": "markdown",
      "metadata": {
        "id": "pvE_spIzeFv0"
      },
      "source": [
        "특정 문자열로 바꾸기(replace)"
      ]
    },
    {
      "cell_type": "code",
      "execution_count": null,
      "metadata": {
        "colab": {
          "base_uri": "https://localhost:8080/",
          "height": 35
        },
        "id": "UfJf_Rw4du7H",
        "outputId": "a332c757-a91c-44cf-a871-00de7af195c5"
      },
      "outputs": [
        {
          "output_type": "execute_result",
          "data": {
            "application/vnd.google.colaboratory.intrinsic+json": {
              "type": "string"
            },
            "text/plain": [
              "' have a bad day! '"
            ]
          },
          "metadata": {},
          "execution_count": 9
        }
      ],
      "source": [
        "replace_str = str2.replace(\"nice\", 'bad')\n",
        "replace_str\n",
        "\n",
        "#+) 만약 바꾸려는 문자열이 없으면 어떻게 나올까요? 실습해봅시다."
      ]
    },
    {
      "cell_type": "code",
      "source": [
        "replace_str = str2.replace('nice','bad')\n",
        "replace_str"
      ],
      "metadata": {
        "colab": {
          "base_uri": "https://localhost:8080/",
          "height": 35
        },
        "id": "pWzQnbq2Ohff",
        "outputId": "2a26d93d-0571-4962-93c8-eaa238bf154c"
      },
      "execution_count": null,
      "outputs": [
        {
          "output_type": "execute_result",
          "data": {
            "application/vnd.google.colaboratory.intrinsic+json": {
              "type": "string"
            },
            "text/plain": [
              "' have a bad day! '"
            ]
          },
          "metadata": {},
          "execution_count": 10
        }
      ]
    },
    {
      "cell_type": "code",
      "source": [
        "replace_str = str2.replace('nice','bad')\n",
        "replace_str"
      ],
      "metadata": {
        "colab": {
          "base_uri": "https://localhost:8080/",
          "height": 35
        },
        "id": "vlA62zIaN39m",
        "outputId": "18a443a1-51ef-47e3-efe9-13c04367a90f"
      },
      "execution_count": null,
      "outputs": [
        {
          "output_type": "execute_result",
          "data": {
            "application/vnd.google.colaboratory.intrinsic+json": {
              "type": "string"
            },
            "text/plain": [
              "' have a bad day! '"
            ]
          },
          "metadata": {},
          "execution_count": 11
        }
      ]
    },
    {
      "cell_type": "markdown",
      "metadata": {
        "id": "ocay3qQ5dtSm"
      },
      "source": [
        "문자열 나누기(split)  \n",
        "괄호안에 `  ` 공백이면 공백을 기준으로,\n",
        "('.')이면 `.`을 기준으로"
      ]
    },
    {
      "cell_type": "code",
      "source": [
        ""
      ],
      "metadata": {
        "id": "mU3PjxB9N0zN"
      },
      "execution_count": null,
      "outputs": []
    },
    {
      "cell_type": "code",
      "execution_count": null,
      "metadata": {
        "colab": {
          "base_uri": "https://localhost:8080/"
        },
        "id": "kTC636ZcdsjC",
        "outputId": "3361033d-1784-48f9-eecd-f691aa683e57"
      },
      "outputs": [
        {
          "data": {
            "text/plain": [
              "['have', 'a', 'nice', 'day!']"
            ]
          },
          "execution_count": 45,
          "metadata": {},
          "output_type": "execute_result"
        }
      ],
      "source": [
        "split_str = str2.split()\n",
        "split_str"
      ]
    },
    {
      "cell_type": "code",
      "source": [
        "split_str = str2.split()\n",
        "split_str"
      ],
      "metadata": {
        "colab": {
          "base_uri": "https://localhost:8080/"
        },
        "id": "1MdN310zO8Ar",
        "outputId": "2d720f5e-61ad-4b0e-8725-138c47808db2"
      },
      "execution_count": null,
      "outputs": [
        {
          "output_type": "execute_result",
          "data": {
            "text/plain": [
              "['have', 'a', 'nice', 'day!']"
            ]
          },
          "metadata": {},
          "execution_count": 12
        }
      ]
    },
    {
      "cell_type": "markdown",
      "metadata": {
        "id": "u_G6a6ZmkOQw"
      },
      "source": [
        "문자열 입력(input)\n",
        "\n"
      ]
    },
    {
      "cell_type": "code",
      "execution_count": null,
      "metadata": {
        "colab": {
          "base_uri": "https://localhost:8080/"
        },
        "id": "XdWr_2TIkQ4V",
        "outputId": "c8f5284e-859a-4923-8523-05c1d6c0105f"
      },
      "outputs": [
        {
          "name": "stdout",
          "output_type": "stream",
          "text": [
            "1234\n"
          ]
        }
      ],
      "source": [
        "a = input()"
      ]
    },
    {
      "cell_type": "code",
      "source": [
        "a = input()\n"
      ],
      "metadata": {
        "colab": {
          "base_uri": "https://localhost:8080/"
        },
        "id": "ss2YNVTwPBjr",
        "outputId": "0f9ed5e9-739a-43d9-ad82-e592c5fb052c"
      },
      "execution_count": null,
      "outputs": [
        {
          "name": "stdout",
          "output_type": "stream",
          "text": [
            "123\n"
          ]
        }
      ]
    },
    {
      "cell_type": "code",
      "execution_count": null,
      "metadata": {
        "colab": {
          "base_uri": "https://localhost:8080/",
          "height": 35
        },
        "id": "VWl6NVLCkWg2",
        "outputId": "61833bdf-317a-4c09-94b9-c3f28b99fd15"
      },
      "outputs": [
        {
          "data": {
            "application/vnd.google.colaboratory.intrinsic+json": {
              "type": "string"
            },
            "text/plain": [
              "'1234'"
            ]
          },
          "execution_count": 58,
          "metadata": {},
          "output_type": "execute_result"
        }
      ],
      "source": [
        "a"
      ]
    },
    {
      "cell_type": "code",
      "source": [
        "a"
      ],
      "metadata": {
        "colab": {
          "base_uri": "https://localhost:8080/",
          "height": 35
        },
        "id": "AgnWJBisPIIv",
        "outputId": "e0ad1fc1-49a8-4453-a76a-be2c6b6d808f"
      },
      "execution_count": null,
      "outputs": [
        {
          "output_type": "execute_result",
          "data": {
            "application/vnd.google.colaboratory.intrinsic+json": {
              "type": "string"
            },
            "text/plain": [
              "'123'"
            ]
          },
          "metadata": {},
          "execution_count": 14
        }
      ]
    },
    {
      "cell_type": "markdown",
      "metadata": {
        "id": "VfbJJL8Ul4qV"
      },
      "source": [
        "+) 변수 두개 한 번에 저장"
      ]
    },
    {
      "cell_type": "code",
      "execution_count": null,
      "metadata": {
        "colab": {
          "base_uri": "https://localhost:8080/"
        },
        "id": "Z_OF4Icnl9V_",
        "outputId": "4d568cd6-9170-48aa-bf99-de6ecb8420c0"
      },
      "outputs": [
        {
          "name": "stdout",
          "output_type": "stream",
          "text": [
            "3\n",
            "5\n"
          ]
        }
      ],
      "source": [
        "a, b = 3, 5\n",
        "print(a)\n",
        "print(b)"
      ]
    },
    {
      "cell_type": "code",
      "source": [
        "a, b = 4,6\n",
        "print(a)\n",
        "print(b)"
      ],
      "metadata": {
        "colab": {
          "base_uri": "https://localhost:8080/"
        },
        "id": "4N5tboP-PKdW",
        "outputId": "8114166c-89de-4003-d29c-191b6d400272"
      },
      "execution_count": null,
      "outputs": [
        {
          "output_type": "stream",
          "name": "stdout",
          "text": [
            "4\n",
            "6\n"
          ]
        }
      ]
    },
    {
      "cell_type": "markdown",
      "metadata": {
        "id": "usdpSLsgnVJg"
      },
      "source": [
        "print문 알아두면 좋은 옵션\n"
      ]
    },
    {
      "cell_type": "code",
      "execution_count": null,
      "metadata": {
        "colab": {
          "base_uri": "https://localhost:8080/"
        },
        "id": "V6aLCCWMnibB",
        "outputId": "28d9ae97-c835-4219-fb5e-3d9fa9311382"
      },
      "outputs": [
        {
          "name": "stdout",
          "output_type": "stream",
          "text": [
            "A~B\n"
          ]
        }
      ],
      "source": [
        "# seperater(구분자)\n",
        "print('A','B', sep = '~')"
      ]
    },
    {
      "cell_type": "code",
      "source": [
        "print('A','B', sep = '~')"
      ],
      "metadata": {
        "colab": {
          "base_uri": "https://localhost:8080/"
        },
        "id": "SmPQszHTPOU2",
        "outputId": "bb4c882c-b025-4864-daac-0c6a14c7159a"
      },
      "execution_count": null,
      "outputs": [
        {
          "output_type": "stream",
          "name": "stdout",
          "text": [
            "A~B\n"
          ]
        }
      ]
    },
    {
      "cell_type": "code",
      "source": [
        "print('a','b', sep = ',')"
      ],
      "metadata": {
        "colab": {
          "base_uri": "https://localhost:8080/"
        },
        "id": "1iO1fs1mPUKc",
        "outputId": "d5579e4d-e328-4d96-ad6c-92d5eb7bc637"
      },
      "execution_count": null,
      "outputs": [
        {
          "output_type": "stream",
          "name": "stdout",
          "text": [
            "a,b\n"
          ]
        }
      ]
    },
    {
      "cell_type": "code",
      "execution_count": null,
      "metadata": {
        "colab": {
          "base_uri": "https://localhost:8080/"
        },
        "id": "TY2D49hQoBWo",
        "outputId": "68da4b8b-d58d-43c9-d707-a6f5ad60aa28"
      },
      "outputs": [
        {
          "name": "stdout",
          "output_type": "stream",
          "text": [
            "I like money\n",
            "I like gold and money\n"
          ]
        }
      ],
      "source": [
        "# end (뒤의 출력값과 이어서 출력, 줄바꿈 안 해도 됨)\n",
        "print(\"I like\", end=\" \")\n",
        "print(\"money\")\n",
        "\n",
        "print(\"I like\", end=\" gold and \")\n",
        "print(\"money\")"
      ]
    },
    {
      "cell_type": "markdown",
      "metadata": {
        "id": "33wsZJnNgv6S"
      },
      "source": [
        "## 퀴즈 ⚡\n",
        "\n",
        "위에서 배운 내용과 앞서 배운 내용을 이용하여 아래 문제를 풀어주세요\n"
      ]
    },
    {
      "cell_type": "markdown",
      "metadata": {
        "id": "AiX-M2VWkpRk"
      },
      "source": [
        "1. 문자 1개 입력받아 그대로 출력하기\n",
        "(어떤 문자든 OK)"
      ]
    },
    {
      "cell_type": "code",
      "execution_count": null,
      "metadata": {
        "id": "S0vFFBITkiZE",
        "colab": {
          "base_uri": "https://localhost:8080/"
        },
        "outputId": "156beccd-438d-4767-c7be-3238bf252436"
      },
      "outputs": [
        {
          "output_type": "stream",
          "name": "stdout",
          "text": [
            "maratang\n",
            "maratang\n"
          ]
        }
      ],
      "source": [
        "# GO\n",
        "str = input()\n",
        "print(str)"
      ]
    },
    {
      "cell_type": "markdown",
      "metadata": {
        "id": "K6C7rHEhkvag"
      },
      "source": [
        "2. 정수 1개 입력받아 int로 변환하여 출력하기"
      ]
    },
    {
      "cell_type": "code",
      "execution_count": null,
      "metadata": {
        "id": "HSvzGRehkvah",
        "colab": {
          "base_uri": "https://localhost:8080/"
        },
        "outputId": "585a9c23-9a06-4a82-8e63-65412ff82b97"
      },
      "outputs": [
        {
          "output_type": "stream",
          "name": "stdout",
          "text": [
            "5\n",
            "5\n"
          ]
        }
      ],
      "source": [
        "# GO\n",
        "\n",
        "num = int(input())\n",
        "print(num)"
      ]
    },
    {
      "cell_type": "markdown",
      "metadata": {
        "id": "evmFdzAMkvg5"
      },
      "source": [
        "3. 실수 1개 입력받아 변환하여 출력하기"
      ]
    },
    {
      "cell_type": "code",
      "execution_count": null,
      "metadata": {
        "id": "U8gZ_wU8kvg5",
        "colab": {
          "base_uri": "https://localhost:8080/"
        },
        "outputId": "205c3c02-b069-43b3-beed-8aa16b6101dd"
      },
      "outputs": [
        {
          "output_type": "stream",
          "name": "stdout",
          "text": [
            "5.6\n",
            "5\n"
          ]
        }
      ],
      "source": [
        "# GO\n",
        "num1 = float(input())\n",
        "print(int(num1))"
      ]
    },
    {
      "cell_type": "markdown",
      "metadata": {
        "id": "gbxtKFgCkvps"
      },
      "source": [
        "4. 정수 2개 입력받아 그대로 출력하기"
      ]
    },
    {
      "cell_type": "code",
      "execution_count": null,
      "metadata": {
        "id": "lG_xTuaJkvpt",
        "colab": {
          "base_uri": "https://localhost:8080/"
        },
        "outputId": "ffe5d094-fe02-49f9-b073-fbfbc7d27e35"
      },
      "outputs": [
        {
          "output_type": "stream",
          "name": "stdout",
          "text": [
            "3\n",
            "5\n",
            "3 5\n"
          ]
        }
      ],
      "source": [
        "# GO\n",
        "num3 = int(input())\n",
        "num4 = int(input())\n",
        "print(num3, num4)"
      ]
    },
    {
      "cell_type": "markdown",
      "metadata": {
        "id": "aVRn9s8Elhhc"
      },
      "source": [
        "55. 문자 2개 입력받아 순서 바꿔 출력하기"
      ]
    },
    {
      "cell_type": "code",
      "execution_count": null,
      "metadata": {
        "id": "jiREJ3JTlhhc",
        "colab": {
          "base_uri": "https://localhost:8080/"
        },
        "outputId": "a0c2689b-1c0c-4092-b77d-a777c42e515c"
      },
      "outputs": [
        {
          "output_type": "stream",
          "name": "stdout",
          "text": [
            "chocolate\n",
            "candy\n",
            "candy chocolate\n"
          ]
        }
      ],
      "source": [
        "# GO\n",
        "str3 = input()\n",
        "str4 = input()\n",
        "print(str4, str3)"
      ]
    },
    {
      "cell_type": "markdown",
      "metadata": {
        "id": "JwOqN1S0lhky"
      },
      "source": [
        "6. 실수 1개 입력받아 3번 출력하기"
      ]
    },
    {
      "cell_type": "code",
      "execution_count": null,
      "metadata": {
        "id": "ugiMcFA5lhky",
        "colab": {
          "base_uri": "https://localhost:8080/"
        },
        "outputId": "cac70fcb-2a92-4286-fbdb-2a5a540d3105"
      },
      "outputs": [
        {
          "output_type": "stream",
          "name": "stdout",
          "text": [
            "8\n",
            "8 8 8\n"
          ]
        }
      ],
      "source": [
        "# GO\n",
        "num5 = int(input())\n",
        "print(num5, num5, num5)"
      ]
    },
    {
      "cell_type": "markdown",
      "metadata": {
        "id": "RonlxZLelhnZ"
      },
      "source": [
        "7. 정수 2개를 입력받아 그대로 출력하기2  \n",
        "(단, 한 번에 정수를 입력 받아야함.)"
      ]
    },
    {
      "cell_type": "code",
      "execution_count": null,
      "metadata": {
        "id": "_EXdshWflhnZ",
        "colab": {
          "base_uri": "https://localhost:8080/"
        },
        "outputId": "8d10f04d-b48f-43e5-c4f3-d9c0686bb1e4"
      },
      "outputs": [
        {
          "name": "stdout",
          "output_type": "stream",
          "text": [
            "1 2\n"
          ]
        },
        {
          "output_type": "execute_result",
          "data": {
            "text/plain": [
              "('1', '2')"
            ]
          },
          "metadata": {},
          "execution_count": 29
        }
      ],
      "source": [
        "# GO\n",
        "num6 = input()\n",
        "num7, num8 = num6.split()\n",
        "num7, num8"
      ]
    },
    {
      "cell_type": "markdown",
      "metadata": {
        "id": "_nY6RUknlhpx"
      },
      "source": [
        "8. 문자 2개 입력받아 순서 바꿔 출력하기2  \n",
        "(단, 한 번에 정수를 입력 받아야함.)\n"
      ]
    },
    {
      "cell_type": "code",
      "execution_count": null,
      "metadata": {
        "id": "CLFjjtbzlhpx",
        "colab": {
          "base_uri": "https://localhost:8080/"
        },
        "outputId": "56d7e66b-9688-4b46-dc61-cd103fca51a4"
      },
      "outputs": [
        {
          "output_type": "stream",
          "name": "stdout",
          "text": [
            "hi hello\n",
            "hello hi\n"
          ]
        }
      ],
      "source": [
        "# GO\n",
        "str5 = input()\n",
        "str6, str7 = str5.split()\n",
        "print(str7, str6)"
      ]
    },
    {
      "cell_type": "markdown",
      "metadata": {
        "id": "_eKlCiuDmZrN"
      },
      "source": [
        "9. 현재 시간을 입력받아 그대로 출력하기  \n",
        "(단, 시간의 형식을 지켜주세요. `ex) 22:42`) "
      ]
    },
    {
      "cell_type": "code",
      "execution_count": null,
      "metadata": {
        "id": "DpV0OX9YmZ2s",
        "colab": {
          "base_uri": "https://localhost:8080/"
        },
        "outputId": "a44560b6-8f60-4d8d-a041-e52e4c3042e1"
      },
      "outputs": [
        {
          "output_type": "stream",
          "name": "stdout",
          "text": [
            "8 43\n",
            "8:43\n"
          ]
        }
      ],
      "source": [
        "# GO\n",
        "time = input()\n",
        "time1, time2 = time.split()\n",
        "print(time1, time2, sep=':')"
      ]
    },
    {
      "cell_type": "markdown",
      "metadata": {
        "id": "tlA3NTpOoZAN"
      },
      "source": [
        "10. 연월일 입력받아 순서 바꿔 출력하기  \n",
        "(단, 입력시 연월일을 구분 할 때 `.`을 사용하고,  기호를 `.`을 기준으로 잘라주세요, 그리고 `-` 기호를 구분자로 하여 출력하세요.)"
      ]
    },
    {
      "cell_type": "code",
      "execution_count": null,
      "metadata": {
        "id": "EMNK8g9jotyi",
        "colab": {
          "base_uri": "https://localhost:8080/"
        },
        "outputId": "9cac810e-e56f-4454-ad80-9c797b60ade9"
      },
      "outputs": [
        {
          "output_type": "stream",
          "name": "stdout",
          "text": [
            "2022.1.20\n",
            "20-1-2022\n"
          ]
        }
      ],
      "source": [
        "# GO\n",
        "time3 = input()\n",
        "time4, time5, time6 = time3.split('.')\n",
        "print(time6, time5, time4, sep = '-')\n"
      ]
    },
    {
      "cell_type": "markdown",
      "metadata": {
        "id": "9aNippBvow5j"
      },
      "source": [
        "11. `마라탕, 떡볶이, 족발, 소주, 맥주, 먹고싶다` 를 입력 받고, `먹고싶다`를 본인이 원하는 음식으로 바꿔서 출력하기\n",
        "\n"
      ]
    },
    {
      "cell_type": "code",
      "execution_count": null,
      "metadata": {
        "id": "QZhCUnA6pMiG",
        "colab": {
          "base_uri": "https://localhost:8080/",
          "height": 54
        },
        "outputId": "49dafb2b-7034-4230-b290-57c56dbd0665"
      },
      "outputs": [
        {
          "name": "stdout",
          "output_type": "stream",
          "text": [
            "마라탕, 떡볶이, 족발, 소주, 맥주, 먹고싶다\n"
          ]
        },
        {
          "output_type": "execute_result",
          "data": {
            "application/vnd.google.colaboratory.intrinsic+json": {
              "type": "string"
            },
            "text/plain": [
              "'마라탕, 떡볶이, 족발, 소주, 맥주, 닭발'"
            ]
          },
          "metadata": {},
          "execution_count": 33
        }
      ],
      "source": [
        "# GO\n",
        "str8 = input()\n",
        "str9 = str8.replace('먹고싶다', '닭발')\n",
        "str9"
      ]
    },
    {
      "cell_type": "markdown",
      "metadata": {
        "id": "Y0mI_LEietOJ"
      },
      "source": [
        "## +) 출력문"
      ]
    },
    {
      "cell_type": "markdown",
      "metadata": {
        "id": "LPxWg4fOewh5"
      },
      "source": [
        "### 포멧(format)\n",
        "\n",
        "\n"
      ]
    },
    {
      "cell_type": "markdown",
      "metadata": {
        "id": "N60STOTtgHzS"
      },
      "source": [
        "자주 사용되는 포멧 자료형\n",
        "\n",
        "- 정수 : d\n",
        "- 실수 : f\n",
        "- 문자열 : s"
      ]
    },
    {
      "cell_type": "markdown",
      "metadata": {
        "id": "gmiz3sxcf0NG"
      },
      "source": [
        "1. % 포멧팅  \n",
        "`%자료형%value`  "
      ]
    },
    {
      "cell_type": "code",
      "execution_count": null,
      "metadata": {
        "colab": {
          "base_uri": "https://localhost:8080/"
        },
        "id": "kyBg7wnMedTa",
        "outputId": "a0f80014-ee6a-4e26-d935-c8782b8996e7"
      },
      "outputs": [
        {
          "name": "stdout",
          "output_type": "stream",
          "text": [
            "100\n"
          ]
        }
      ],
      "source": [
        "a = 100\n",
        "print('%d'%a)"
      ]
    },
    {
      "cell_type": "markdown",
      "metadata": {
        "id": "XfJDBniwesSC"
      },
      "source": [
        "## 리스트\n",
        "### 순서가 있고 수정 가능한 자료구조\n",
        "\n",
        "리스트명 = [value1, value2, value3, ... ]"
      ]
    },
    {
      "cell_type": "code",
      "execution_count": null,
      "metadata": {
        "id": "3G-1o6PONhIK"
      },
      "outputs": [],
      "source": [
        "l1 = [1, 2, 4, 5]"
      ]
    },
    {
      "cell_type": "code",
      "execution_count": null,
      "metadata": {
        "id": "9HJ_1TXFNhIK"
      },
      "outputs": [],
      "source": [
        "l2 = ['apple', 'pie']"
      ]
    },
    {
      "cell_type": "code",
      "execution_count": null,
      "metadata": {
        "colab": {
          "base_uri": "https://localhost:8080/"
        },
        "id": "1bRrfgMINhIK",
        "outputId": "e1679988-c2c3-4887-c725-455b5cf75205"
      },
      "outputs": [
        {
          "output_type": "execute_result",
          "data": {
            "text/plain": [
              "['apple', 'pie']"
            ]
          },
          "metadata": {},
          "execution_count": 36
        }
      ],
      "source": [
        "l2"
      ]
    },
    {
      "cell_type": "code",
      "execution_count": null,
      "metadata": {
        "colab": {
          "base_uri": "https://localhost:8080/",
          "height": 35
        },
        "id": "Jq_CjEIHNhIK",
        "outputId": "5c073657-9d6c-48c8-e573-41ac59641d2a"
      },
      "outputs": [
        {
          "output_type": "execute_result",
          "data": {
            "application/vnd.google.colaboratory.intrinsic+json": {
              "type": "string"
            },
            "text/plain": [
              "'pie'"
            ]
          },
          "metadata": {},
          "execution_count": 37
        }
      ],
      "source": [
        "l2[1]"
      ]
    },
    {
      "cell_type": "code",
      "execution_count": null,
      "metadata": {
        "id": "2dM9HnqcNhIL"
      },
      "outputs": [],
      "source": [
        "a = [1,2,3,[4,5,6]]"
      ]
    },
    {
      "cell_type": "code",
      "execution_count": null,
      "metadata": {
        "colab": {
          "base_uri": "https://localhost:8080/"
        },
        "id": "HQiC5HrBNhIL",
        "outputId": "69dea135-f390-4cf5-f8a2-bd101ce743db"
      },
      "outputs": [
        {
          "output_type": "execute_result",
          "data": {
            "text/plain": [
              "[1, 2, 3, [4, 5, 6]]"
            ]
          },
          "metadata": {},
          "execution_count": 39
        }
      ],
      "source": [
        "a"
      ]
    },
    {
      "cell_type": "code",
      "execution_count": null,
      "metadata": {
        "colab": {
          "base_uri": "https://localhost:8080/"
        },
        "id": "KXaez9uhNhIL",
        "outputId": "8d43ac19-4731-431c-8517-37a0fe0ce3d6"
      },
      "outputs": [
        {
          "output_type": "execute_result",
          "data": {
            "text/plain": [
              "[4, 5, 6]"
            ]
          },
          "metadata": {},
          "execution_count": 40
        }
      ],
      "source": [
        "a[-1]"
      ]
    },
    {
      "cell_type": "code",
      "source": [
        "a[3][1]"
      ],
      "metadata": {
        "colab": {
          "base_uri": "https://localhost:8080/"
        },
        "id": "JeY6SSgBZysn",
        "outputId": "4e8a84e0-0827-4a36-844c-704e957ce5f0"
      },
      "execution_count": null,
      "outputs": [
        {
          "output_type": "execute_result",
          "data": {
            "text/plain": [
              "5"
            ]
          },
          "metadata": {},
          "execution_count": 41
        }
      ]
    },
    {
      "cell_type": "markdown",
      "metadata": {
        "id": "WwTeYFh9NhIL"
      },
      "source": [
        "리스트 연산하기"
      ]
    },
    {
      "cell_type": "code",
      "execution_count": null,
      "metadata": {
        "id": "w36jf0_WNhIL"
      },
      "outputs": [],
      "source": [
        "a = [1, 2, 3]\n",
        "b = [4, 5, 6]"
      ]
    },
    {
      "cell_type": "code",
      "execution_count": null,
      "metadata": {
        "colab": {
          "base_uri": "https://localhost:8080/"
        },
        "id": "VJjntAOBNhIL",
        "outputId": "07236e97-81dd-4988-d75d-17e6bb32fa0e"
      },
      "outputs": [
        {
          "output_type": "execute_result",
          "data": {
            "text/plain": [
              "[1, 2, 3, 4, 5, 6]"
            ]
          },
          "metadata": {},
          "execution_count": 43
        }
      ],
      "source": [
        "a + b"
      ]
    },
    {
      "cell_type": "code",
      "execution_count": null,
      "metadata": {
        "colab": {
          "base_uri": "https://localhost:8080/"
        },
        "id": "jxQLE20TNhIL",
        "outputId": "713a6fcc-f66e-4e29-b29f-28dff34fc6ef"
      },
      "outputs": [
        {
          "output_type": "execute_result",
          "data": {
            "text/plain": [
              "[1, 2, 3, 1, 2, 3, 1, 2, 3]"
            ]
          },
          "metadata": {},
          "execution_count": 44
        }
      ],
      "source": [
        "a * 3"
      ]
    },
    {
      "cell_type": "code",
      "execution_count": null,
      "metadata": {
        "colab": {
          "base_uri": "https://localhost:8080/"
        },
        "id": "NVcmBK6SNhIL",
        "outputId": "07dcd45b-1ed3-41ab-d2e0-0742f17eea4b"
      },
      "outputs": [
        {
          "output_type": "execute_result",
          "data": {
            "text/plain": [
              "3"
            ]
          },
          "metadata": {},
          "execution_count": 45
        }
      ],
      "source": [
        "len(a)"
      ]
    },
    {
      "cell_type": "code",
      "execution_count": null,
      "metadata": {
        "id": "aqjtG-6_NhIM"
      },
      "outputs": [],
      "source": [
        "a[2] = 5"
      ]
    },
    {
      "cell_type": "code",
      "execution_count": null,
      "metadata": {
        "colab": {
          "base_uri": "https://localhost:8080/"
        },
        "id": "vNxCFMd1NhIM",
        "outputId": "a2610085-642c-4797-e90a-34fe6bab8d8c"
      },
      "outputs": [
        {
          "output_type": "execute_result",
          "data": {
            "text/plain": [
              "[1, 2, 5]"
            ]
          },
          "metadata": {},
          "execution_count": 47
        }
      ],
      "source": [
        "a"
      ]
    },
    {
      "cell_type": "markdown",
      "metadata": {
        "id": "MfAqkVZWNhIM"
      },
      "source": [
        "리스트 요소 삭제하기(del)"
      ]
    },
    {
      "cell_type": "code",
      "execution_count": null,
      "metadata": {
        "id": "K93jeDUBNhIM"
      },
      "outputs": [],
      "source": [
        "del a[1]"
      ]
    },
    {
      "cell_type": "code",
      "source": [
        "age =[23, 22, 21]"
      ],
      "metadata": {
        "id": "u_f3wEGxbMQg"
      },
      "execution_count": null,
      "outputs": []
    },
    {
      "cell_type": "code",
      "source": [
        "del age[0]\n",
        "age"
      ],
      "metadata": {
        "colab": {
          "base_uri": "https://localhost:8080/"
        },
        "id": "xJVlaWvKbYS_",
        "outputId": "8961c485-6835-4b8a-9126-fc24fd81cfcf"
      },
      "execution_count": null,
      "outputs": [
        {
          "output_type": "execute_result",
          "data": {
            "text/plain": [
              "[22, 21]"
            ]
          },
          "metadata": {},
          "execution_count": 52
        }
      ]
    },
    {
      "cell_type": "code",
      "execution_count": null,
      "metadata": {
        "id": "pd-bBhm7NhIM",
        "outputId": "dc7d9664-7f08-463f-d413-135f6a83e70c"
      },
      "outputs": [
        {
          "data": {
            "text/plain": [
              "[1]"
            ]
          },
          "execution_count": 24,
          "metadata": {},
          "output_type": "execute_result"
        }
      ],
      "source": [
        "a"
      ]
    },
    {
      "cell_type": "markdown",
      "metadata": {
        "id": "jal5bg4xNhIM"
      },
      "source": [
        "리스트에 요소 추가(append)"
      ]
    },
    {
      "cell_type": "code",
      "execution_count": null,
      "metadata": {
        "id": "LIAuCROSNhIN"
      },
      "outputs": [],
      "source": [
        "list1 = [1,2,3,4,5]"
      ]
    },
    {
      "cell_type": "code",
      "execution_count": null,
      "metadata": {
        "id": "TKOzhJEFNhIN"
      },
      "outputs": [],
      "source": [
        "list1.append('a')"
      ]
    },
    {
      "cell_type": "code",
      "execution_count": null,
      "metadata": {
        "colab": {
          "base_uri": "https://localhost:8080/"
        },
        "id": "WT-h5ixdNhIN",
        "outputId": "4feef9c1-d05f-4396-d6cc-2e55288eecdc"
      },
      "outputs": [
        {
          "output_type": "execute_result",
          "data": {
            "text/plain": [
              "[1, 2, 3, 4, 5, 'a']"
            ]
          },
          "metadata": {},
          "execution_count": 55
        }
      ],
      "source": [
        "list1"
      ]
    },
    {
      "cell_type": "markdown",
      "metadata": {
        "id": "7jCL8Sd-NhIN"
      },
      "source": [
        "리스트 정렬(sort)"
      ]
    },
    {
      "cell_type": "code",
      "execution_count": null,
      "metadata": {
        "id": "JzaPx4PVNhIN"
      },
      "outputs": [],
      "source": [
        "list2 = [1,5,6,3,2,4,5]"
      ]
    },
    {
      "cell_type": "code",
      "execution_count": null,
      "metadata": {
        "colab": {
          "base_uri": "https://localhost:8080/"
        },
        "id": "oC4cX1mBNhIN",
        "outputId": "d08ee256-f2ab-42da-9da1-bb888dc7ba1a"
      },
      "outputs": [
        {
          "output_type": "execute_result",
          "data": {
            "text/plain": [
              "[1, 2, 3, 4, 5, 5, 6]"
            ]
          },
          "metadata": {},
          "execution_count": 57
        }
      ],
      "source": [
        "list2.sort()\n",
        "list2"
      ]
    },
    {
      "cell_type": "code",
      "source": [
        "list3 = [1,5,6,3,2,4]\n",
        "for i in range(len(list3)):\n",
        "  j = len(list3) - i\n",
        "  for k in range(1,j):\n",
        "    if list3[k-1] >= list3[k]:\n",
        "      tmp = list3[k-1]\n",
        "      list3[k-1] = list3[k]\n",
        "      list3[k] = tmp\n",
        "\n",
        "list3"
      ],
      "metadata": {
        "colab": {
          "base_uri": "https://localhost:8080/"
        },
        "id": "f0GK1vKDdaOS",
        "outputId": "f9178de1-c167-454b-e2ba-72929c453b74"
      },
      "execution_count": null,
      "outputs": [
        {
          "output_type": "execute_result",
          "data": {
            "text/plain": [
              "[1, 2, 3, 4, 5, 6]"
            ]
          },
          "metadata": {},
          "execution_count": 4
        }
      ]
    },
    {
      "cell_type": "markdown",
      "metadata": {
        "id": "ZmyKLlG4NhIN"
      },
      "source": [
        "리스트 뒤집기(reverse)"
      ]
    },
    {
      "cell_type": "code",
      "execution_count": null,
      "metadata": {
        "id": "1QIJbOL-NhIN",
        "outputId": "07e4e67c-d0f7-4975-9b77-d470d749ea57",
        "colab": {
          "base_uri": "https://localhost:8080/"
        }
      },
      "outputs": [
        {
          "output_type": "execute_result",
          "data": {
            "text/plain": [
              "[4, 3, 2, 1]"
            ]
          },
          "metadata": {},
          "execution_count": 19
        }
      ],
      "source": [
        "ap = [1,2,3,4]\n",
        "ap.reverse()\n",
        "ap"
      ]
    },
    {
      "cell_type": "markdown",
      "metadata": {
        "id": "s3lEdhkJNhIO"
      },
      "source": [
        "리스트의 요소 위치 반환(index)"
      ]
    },
    {
      "cell_type": "code",
      "execution_count": null,
      "metadata": {
        "id": "CBZ0Z7ruNhIO",
        "outputId": "a2c358ac-8834-405e-da18-cea5ca1f5f54",
        "colab": {
          "base_uri": "https://localhost:8080/"
        }
      },
      "outputs": [
        {
          "output_type": "execute_result",
          "data": {
            "text/plain": [
              "3"
            ]
          },
          "metadata": {},
          "execution_count": 6
        }
      ],
      "source": [
        "ap.index(1)"
      ]
    },
    {
      "cell_type": "code",
      "execution_count": null,
      "metadata": {
        "id": "A-gyrHGCNhIO"
      },
      "outputs": [],
      "source": [
        "app = ['banana', 'apple']"
      ]
    },
    {
      "cell_type": "code",
      "execution_count": null,
      "metadata": {
        "id": "wS07bYC0NhIO",
        "outputId": "b0481d49-3c59-4c10-f807-5cd08608ce71",
        "colab": {
          "base_uri": "https://localhost:8080/"
        }
      },
      "outputs": [
        {
          "output_type": "execute_result",
          "data": {
            "text/plain": [
              "0"
            ]
          },
          "metadata": {},
          "execution_count": 9
        }
      ],
      "source": [
        "app.index('banana')"
      ]
    },
    {
      "cell_type": "markdown",
      "metadata": {
        "id": "3R6cvEkhNhIO"
      },
      "source": [
        "리스트에 요소 삽입(insert)"
      ]
    },
    {
      "cell_type": "code",
      "execution_count": null,
      "metadata": {
        "id": "6cmoA0ykNhIO",
        "outputId": "61ab27f1-33f9-479e-c8d7-caa0a93cfc91",
        "colab": {
          "base_uri": "https://localhost:8080/"
        }
      },
      "outputs": [
        {
          "output_type": "execute_result",
          "data": {
            "text/plain": [
              "[4, 3, '4', 2, 1]"
            ]
          },
          "metadata": {},
          "execution_count": 20
        }
      ],
      "source": [
        "ap.insert(2, '4')\n",
        "ap"
      ]
    },
    {
      "cell_type": "markdown",
      "metadata": {
        "id": "85GDfApiNhIO"
      },
      "source": [
        "리스트 요소 제거(remove)"
      ]
    },
    {
      "cell_type": "code",
      "execution_count": null,
      "metadata": {
        "id": "_TY-mmULNhIP",
        "outputId": "72208cfd-3cfd-4070-b8b0-322dbd632386",
        "colab": {
          "base_uri": "https://localhost:8080/"
        }
      },
      "outputs": [
        {
          "output_type": "execute_result",
          "data": {
            "text/plain": [
              "[4, 3, '4', 1]"
            ]
          },
          "metadata": {},
          "execution_count": 18
        }
      ],
      "source": [
        "ap.remove(2)\n",
        "ap"
      ]
    },
    {
      "cell_type": "code",
      "source": [
        "ap.remove(2)\n",
        "ap"
      ],
      "metadata": {
        "colab": {
          "base_uri": "https://localhost:8080/"
        },
        "id": "tTG3y43fmZte",
        "outputId": "0b66a793-cedf-4c4c-d834-c27c03c98853"
      },
      "execution_count": null,
      "outputs": [
        {
          "output_type": "execute_result",
          "data": {
            "text/plain": [
              "[4, 3, '4', 1]"
            ]
          },
          "metadata": {},
          "execution_count": 21
        }
      ]
    },
    {
      "cell_type": "markdown",
      "metadata": {
        "id": "BT2_to9lNhIP"
      },
      "source": [
        "리스트 요소 뽑기(pop)"
      ]
    },
    {
      "cell_type": "code",
      "execution_count": null,
      "metadata": {
        "id": "uCWrQsaHNhIP",
        "outputId": "c9aae00e-3a05-4ded-bc73-a92a2db4093a",
        "colab": {
          "base_uri": "https://localhost:8080/"
        }
      },
      "outputs": [
        {
          "output_type": "execute_result",
          "data": {
            "text/plain": [
              "[4, '4', 1]"
            ]
          },
          "metadata": {},
          "execution_count": 22
        }
      ],
      "source": [
        "# a.pop() -> 맨 마지막 요소 제거\n",
        "ap.pop(1)\n",
        "ap"
      ]
    },
    {
      "cell_type": "markdown",
      "metadata": {
        "id": "9S7WSASvNhIP"
      },
      "source": [
        "리스트에 포함된 요소 X의 개수(count)"
      ]
    },
    {
      "cell_type": "code",
      "execution_count": null,
      "metadata": {
        "id": "B0zrw8SXNhIP"
      },
      "outputs": [],
      "source": [
        "hist = [1,1,2,3,3,4,4,5,5,6,6]"
      ]
    },
    {
      "cell_type": "code",
      "execution_count": null,
      "metadata": {
        "id": "pZWk9p-TNhIQ",
        "outputId": "5c76cf1e-6d8f-4709-bc4a-93c762253d2d",
        "colab": {
          "base_uri": "https://localhost:8080/"
        }
      },
      "outputs": [
        {
          "output_type": "execute_result",
          "data": {
            "text/plain": [
              "2"
            ]
          },
          "metadata": {},
          "execution_count": 24
        }
      ],
      "source": [
        "hist.count(1)"
      ]
    },
    {
      "cell_type": "markdown",
      "metadata": {
        "id": "e5Ha0GWXNhIQ"
      },
      "source": [
        "리스트의 최대값과 최소값(max, min)"
      ]
    },
    {
      "cell_type": "code",
      "execution_count": null,
      "metadata": {
        "id": "1Lc0Y0yLNhIQ"
      },
      "outputs": [],
      "source": [
        "nums = [1,2,3]"
      ]
    },
    {
      "cell_type": "code",
      "execution_count": null,
      "metadata": {
        "id": "z1YuCWgENhIQ",
        "outputId": "b2c79a92-d653-4939-8690-396048c5d6fa",
        "colab": {
          "base_uri": "https://localhost:8080/"
        }
      },
      "outputs": [
        {
          "output_type": "execute_result",
          "data": {
            "text/plain": [
              "3"
            ]
          },
          "metadata": {},
          "execution_count": 26
        }
      ],
      "source": [
        "max(nums)"
      ]
    },
    {
      "cell_type": "code",
      "execution_count": null,
      "metadata": {
        "id": "m2gVcqn-NhIR",
        "outputId": "12cc568f-d389-48c6-a28c-eca0654ec803",
        "colab": {
          "base_uri": "https://localhost:8080/"
        }
      },
      "outputs": [
        {
          "output_type": "execute_result",
          "data": {
            "text/plain": [
              "1"
            ]
          },
          "metadata": {},
          "execution_count": 27
        }
      ],
      "source": [
        "min(nums)"
      ]
    },
    {
      "cell_type": "markdown",
      "metadata": {
        "id": "KYJSL8DnNhIR"
      },
      "source": [
        "리스트의 합(sum)"
      ]
    },
    {
      "cell_type": "code",
      "execution_count": null,
      "metadata": {
        "id": "wInFUyuPNhIR",
        "outputId": "67bdda19-7e2f-44c3-8cc0-4c4a027be052",
        "colab": {
          "base_uri": "https://localhost:8080/"
        }
      },
      "outputs": [
        {
          "output_type": "execute_result",
          "data": {
            "text/plain": [
              "6"
            ]
          },
          "metadata": {},
          "execution_count": 28
        }
      ],
      "source": [
        "sum(nums)"
      ]
    },
    {
      "cell_type": "markdown",
      "metadata": {
        "id": "kVw7FzkCNhIR"
      },
      "source": [
        "리스트 문자열 합치기(join)\n",
        "\n",
        "```python\n",
        "'구분자'.join(리스트)\n",
        "```"
      ]
    },
    {
      "cell_type": "markdown",
      "metadata": {
        "id": "BQNp8ELqNhIR"
      },
      "source": [
        "## 퀴즈 - 리스트 ⚡\n",
        "\n",
        "위에서 배운 내용과 앞서 배운 내용을 이용하여 아래 문제를 풀어주세"
      ]
    },
    {
      "cell_type": "markdown",
      "metadata": {
        "id": "loztbJlgNhIS"
      },
      "source": [
        "### 2022년 1월 영화 예매 순위 기준 top3는 다음과 같습니다.   \n",
        "영화 제목을 movie_rank 이름의 리스트에 저장해보세요. (순위 정보는 저장하지 않습니다.)\n",
        "\n",
        "1. 스파이더맨: 노 웨이 홈\n",
        "2. 씽2게더\n",
        "3. 킹스맨: 퍼스트 에이전트 "
      ]
    },
    {
      "cell_type": "code",
      "execution_count": null,
      "metadata": {
        "id": "FcH4WArLNhIS",
        "colab": {
          "base_uri": "https://localhost:8080/"
        },
        "outputId": "b17cfde7-54ff-458a-b1f9-b5c85e7ebe01"
      },
      "outputs": [
        {
          "output_type": "execute_result",
          "data": {
            "text/plain": [
              "['스파이더맨:노 웨이 홈', '씽2게더', '킹스맨:퍼스트 에이전트']"
            ]
          },
          "metadata": {},
          "execution_count": 36
        }
      ],
      "source": [
        "movie_rank = ['스파이더맨:노 웨이 홈','씽2게더','킹스맨:퍼스트 에이전트']\n",
        "movie_rank"
      ]
    },
    {
      "cell_type": "markdown",
      "metadata": {
        "id": "RKY2-LrKNhIS"
      },
      "source": [
        "리스트에 \"극장판 귀멸의 칼날: 무한열차편\"을 추가해주세요."
      ]
    },
    {
      "cell_type": "code",
      "execution_count": null,
      "metadata": {
        "id": "NqOVbgE-NhIS",
        "colab": {
          "base_uri": "https://localhost:8080/"
        },
        "outputId": "02c37d3d-c2a1-4df0-a77e-4ad40fe7c802"
      },
      "outputs": [
        {
          "output_type": "execute_result",
          "data": {
            "text/plain": [
              "['스파이더맨:노 웨이 홈', '씽2게더', '킹스맨:퍼스트 에이전트', '극장판 귀멸의 칼날:무한열차편']"
            ]
          },
          "metadata": {},
          "execution_count": 37
        }
      ],
      "source": [
        "movie_rank.insert(3, '극장판 귀멸의 칼날:무한열차편')\n",
        "movie_rank"
      ]
    },
    {
      "cell_type": "markdown",
      "metadata": {
        "id": "b4qrku2jNhIS"
      },
      "source": [
        "movie_rank 리스트에는 아래와 같이 네 개의 영화 제목이 있습니다.  \n",
        "\"미니언즈\"을 \"스파이더맨: 노 웨이 홈\"와 \"씽2게더\" 사이에 추가해주세요."
      ]
    },
    {
      "cell_type": "code",
      "execution_count": null,
      "metadata": {
        "id": "CPRgg4ZSNhIS",
        "colab": {
          "base_uri": "https://localhost:8080/"
        },
        "outputId": "2d6158f0-8f8d-4d0a-af23-fac3d13c0412"
      },
      "outputs": [
        {
          "output_type": "execute_result",
          "data": {
            "text/plain": [
              "['스파이더맨:노 웨이 홈', '미니언즈', '씽2게더', '킹스맨:퍼스트 에이전트', '극장판 귀멸의 칼날:무한열차편']"
            ]
          },
          "metadata": {},
          "execution_count": 38
        }
      ],
      "source": [
        "movie_rank.insert(1, '미니언즈')\n",
        "movie_rank"
      ]
    },
    {
      "cell_type": "markdown",
      "metadata": {
        "id": "1evXx2lGNhIS"
      },
      "source": [
        "movie_rank 리스트에서 \"씽2게더\"를 삭제해주세요."
      ]
    },
    {
      "cell_type": "code",
      "execution_count": null,
      "metadata": {
        "id": "dlo1D_vQNhIS",
        "colab": {
          "base_uri": "https://localhost:8080/"
        },
        "outputId": "e33a0658-0579-4019-c3cd-27e61d0ffb46"
      },
      "outputs": [
        {
          "output_type": "execute_result",
          "data": {
            "text/plain": [
              "['스파이더맨:노 웨이 홈', '미니언즈', '킹스맨:퍼스트 에이전트', '극장판 귀멸의 칼날:무한열차편']"
            ]
          },
          "metadata": {},
          "execution_count": 40
        }
      ],
      "source": [
        "movie_rank.remove('씽2게더')\n",
        "movie_rank"
      ]
    },
    {
      "cell_type": "markdown",
      "metadata": {
        "id": "UlK3-0FkNhIT"
      },
      "source": [
        "movie_rank 리스트에서 '미니언즈' 과 '극장판 귀멸의 칼날: 무한열차편'를 삭제하세요."
      ]
    },
    {
      "cell_type": "code",
      "execution_count": null,
      "metadata": {
        "id": "HNP0zZw4NhIT",
        "colab": {
          "base_uri": "https://localhost:8080/"
        },
        "outputId": "67653ba0-c727-4364-fa81-a5a2c75c1b39"
      },
      "outputs": [
        {
          "output_type": "execute_result",
          "data": {
            "text/plain": [
              "['스파이더맨:노 웨이 홈', '킹스맨:퍼스트 에이전트']"
            ]
          },
          "metadata": {},
          "execution_count": 41
        }
      ],
      "source": [
        "movie_rank.remove('미니언즈')\n",
        "movie_rank.remove('극장판 귀멸의 칼날:무한열차편')\n",
        "movie_rank"
      ]
    },
    {
      "cell_type": "markdown",
      "metadata": {
        "id": "310A2qaqNhIT"
      },
      "source": [
        "lang1과 lang2 리스트가 있을 때 lang1과 lang2의 원소를 모두 갖고 있는 langs 리스트를 만드세요.\n",
        "```\n",
        "lang1 = [\"C\", \"C++\", \"JAVA\"]\n",
        "lang2 = [\"Python\", \"Go\", \"C#\"]\n",
        "```\n",
        "실행 예:\n",
        "```\n",
        "langs\n",
        "['C', 'C++', 'JAVA', 'Python', 'Go', 'C#']\n",
        "```"
      ]
    },
    {
      "cell_type": "code",
      "execution_count": null,
      "metadata": {
        "id": "UBbcVaRfNhIT",
        "colab": {
          "base_uri": "https://localhost:8080/"
        },
        "outputId": "581861d4-0b7e-443c-848d-9aefcd414193"
      },
      "outputs": [
        {
          "output_type": "stream",
          "name": "stdout",
          "text": [
            "langs\n",
            " ['C', 'C++', 'JAVA', 'Python', 'Go', 'C#']\n"
          ]
        }
      ],
      "source": [
        "lang1 = ['C', 'C++', 'JAVA']\n",
        "lang2 = ['Python', 'Go', 'C#']\n",
        "langs = lang1 + lang2\n",
        "print('langs\\n',langs)"
      ]
    },
    {
      "cell_type": "markdown",
      "metadata": {
        "id": "KCHJoM_5NhIT"
      },
      "source": [
        "다음 리스트에서 최댓값과 최솟값을 출력하세요.\n",
        "```\n",
        "nums = [1, 4, 5, 6, 7, 8, 102, 411, 23, -12]\n",
        "```\n",
        "\n",
        "실행 예:\n",
        "```\n",
        "max:  411\n",
        "min:  -12\n",
        "```\n",
        "(힌트: min(), max() 함수 사용)"
      ]
    },
    {
      "cell_type": "code",
      "execution_count": null,
      "metadata": {
        "id": "cTxpXv2ONhIT",
        "colab": {
          "base_uri": "https://localhost:8080/"
        },
        "outputId": "2d2d8e83-746c-4361-fbfc-90094999e56e"
      },
      "outputs": [
        {
          "output_type": "stream",
          "name": "stdout",
          "text": [
            "max:  411\n",
            "min:  -12\n"
          ]
        }
      ],
      "source": [
        "nums = [1, 4, 5, 6, 7, 8, 102, 411, 23, -12]\n",
        "\n",
        "print('max: ', max(nums))\n",
        "print('min: ', min(nums))"
      ]
    },
    {
      "cell_type": "markdown",
      "metadata": {
        "id": "FDrPzozrNhIT"
      },
      "source": [
        "ㅔ갸ㅇnums 리스트의 합과 평균을 출력하세요."
      ]
    },
    {
      "cell_type": "code",
      "execution_count": null,
      "metadata": {
        "id": "e9L5-a8ENhIT",
        "colab": {
          "base_uri": "https://localhost:8080/"
        },
        "outputId": "4653bd55-6879-4dbf-b4a5-759c022fc2d0"
      },
      "outputs": [
        {
          "output_type": "stream",
          "name": "stdout",
          "text": [
            "합:  555\n",
            "평균:  55.5\n"
          ]
        }
      ],
      "source": [
        "print('합: ',sum(nums))\n",
        "print('평균: ',sum(nums)/10)"
      ]
    },
    {
      "cell_type": "markdown",
      "metadata": {
        "id": "HRva3YScNhIU"
      },
      "source": [
        "price 변수에는 날짜와 종가 정보가 저장되어 있습니다.  \n",
        "날짜 정보를 제외하고 가격 정보만 출력하세요. (힌트 : 슬라이싱)\n",
        "\n",
        "```\n",
        "price = ['20220120', 100, 130, 140, 150, 160, 170]\n",
        "```"
      ]
    },
    {
      "cell_type": "code",
      "source": [
        "price = ['20220120', 100, 130, 140, 150, 160, 170]\n",
        "price[1:]"
      ],
      "metadata": {
        "id": "eX3remkWqEPP",
        "colab": {
          "base_uri": "https://localhost:8080/"
        },
        "outputId": "9d90e7bc-629e-4bd1-b494-d39865ebf361"
      },
      "execution_count": null,
      "outputs": [
        {
          "output_type": "execute_result",
          "data": {
            "text/plain": [
              "[100, 130, 140, 150, 160, 170]"
            ]
          },
          "metadata": {},
          "execution_count": 51
        }
      ]
    },
    {
      "cell_type": "markdown",
      "metadata": {
        "id": "Ms9RXgXlNhIU"
      },
      "source": [
        "다음 리스트에서 슬라이싱을 사용해서 홀수만 출력하세요.\n",
        "```\n",
        "nums = [1, 2, 3, 4, 5, 6, 7, 8, 9, 10]\n",
        "```"
      ]
    },
    {
      "cell_type": "code",
      "execution_count": null,
      "metadata": {
        "id": "tKxpaU17NhIU",
        "colab": {
          "base_uri": "https://localhost:8080/"
        },
        "outputId": "66ae5e95-123e-41c9-e12e-a1e3339192e3"
      },
      "outputs": [
        {
          "output_type": "execute_result",
          "data": {
            "text/plain": [
              "[1, 3, 5, 7, 9]"
            ]
          },
          "metadata": {},
          "execution_count": 52
        }
      ],
      "source": [
        "nums = [1, 2, 3, 4, 5, 6, 7, 8, 9, 10]\n",
        "nums[::2]"
      ]
    },
    {
      "cell_type": "markdown",
      "metadata": {
        "id": "Pqoy37uuNhIU"
      },
      "source": [
        "interest 리스트에는 아래의 데이터가 저장되어있습니다.  \n",
        "interest 리스트를 사용해 아래와 같이 출력하세요.\n",
        "\n",
        "```python\n",
        "interest = ['삼성전자', 'LG전자', 'Naver', 'SK하이닉스', '미래에셋대우']\n",
        "```\n",
        "\n",
        "출력 예시:\n",
        "```python\n",
        "삼성전자 LG전자 Naver SK하이닉스 미래에셋대우\n",
        "```"
      ]
    },
    {
      "cell_type": "code",
      "execution_count": null,
      "metadata": {
        "id": "Q4iR8_8DNhIU",
        "colab": {
          "base_uri": "https://localhost:8080/"
        },
        "outputId": "3d8d212a-8c1b-4abd-cde9-eed71717cc70"
      },
      "outputs": [
        {
          "output_type": "stream",
          "name": "stdout",
          "text": [
            "삼성전자 LG전자 Naver SK하이닉스 미래에셋대우\n"
          ]
        }
      ],
      "source": [
        "interest = ['삼성전자', 'LG전자', 'Naver', 'SK하이닉스', '미래에셋대우']\n",
        "\n",
        "interest1 = ' '.join(interest)\n",
        "print(interest1)"
      ]
    },
    {
      "cell_type": "markdown",
      "metadata": {
        "id": "60-Lq-kmNhIU"
      },
      "source": [
        "interest 리스트를 사용해 아래와 같이 출력하세요.\n",
        "\n",
        "출력 예시:\n",
        "```python\n",
        "삼성전자\n",
        "LG전자\n",
        "Naver\n",
        "SK하이닉스\n",
        "미래에셋대우\n",
        "```"
      ]
    },
    {
      "cell_type": "code",
      "execution_count": null,
      "metadata": {
        "id": "HqgQ9vt4NhIU",
        "colab": {
          "base_uri": "https://localhost:8080/"
        },
        "outputId": "46f7ae7f-820d-4874-a380-f0122d82df60"
      },
      "outputs": [
        {
          "output_type": "stream",
          "name": "stdout",
          "text": [
            "삼성전자 \n",
            "\n",
            "LG전자 \n",
            "\n",
            "Naver \n",
            "\n",
            "SK하이닉스 \n",
            "\n",
            "미래에셋대우 \n",
            "\n"
          ]
        }
      ],
      "source": [
        "for i in range(5):\n",
        "  print(interest[i],'\\n')"
      ]
    },
    {
      "cell_type": "markdown",
      "metadata": {
        "id": "rboGy4kzNhIU"
      },
      "source": [
        "회사 이름이 슬래시 ('/')로 구분되어 하나의 문자열로 저장되어 있습니다.\n",
        "\n",
        "```\n",
        "string = \"삼성전자/LG전자/Naver\"\n",
        "```\n",
        "\n",
        "이를 interest2 이름의 리스트로 분리 저장하세요.  \n",
        "\n",
        "출력 예시\n",
        "```\n",
        "print(interest)\n",
        "['삼성전자', 'LG전자', 'Naver']\n",
        "```"
      ]
    },
    {
      "cell_type": "code",
      "execution_count": null,
      "metadata": {
        "id": "-FPPoeTJNhIV",
        "colab": {
          "base_uri": "https://localhost:8080/"
        },
        "outputId": "7d8bf1d1-cbce-4258-b7de-29d8ba350b53"
      },
      "outputs": [
        {
          "output_type": "execute_result",
          "data": {
            "text/plain": [
              "['삼성전자', 'LG전자', 'Naver']"
            ]
          },
          "metadata": {},
          "execution_count": 68
        }
      ],
      "source": [
        "string = \"삼성전자/LG전자/Naver\"\n",
        "\n",
        "interest2 = string.split('/')\n",
        "interest2"
      ]
    },
    {
      "cell_type": "markdown",
      "metadata": {
        "id": "Bk6qf_6_NhIV"
      },
      "source": [
        "data 리스트에 있는 값을 오름차순으로 정렬하세요.\n",
        "\n",
        "```\n",
        "data = [2, 4, 3, 1, 5, 10, 9]\n",
        "```"
      ]
    },
    {
      "cell_type": "code",
      "execution_count": null,
      "metadata": {
        "id": "4A2AdlkANhIV",
        "colab": {
          "base_uri": "https://localhost:8080/"
        },
        "outputId": "2b545df9-b3c0-4f7a-a040-435c7427074c"
      },
      "outputs": [
        {
          "output_type": "execute_result",
          "data": {
            "text/plain": [
              "[1, 2, 3, 4, 5, 9, 10]"
            ]
          },
          "metadata": {},
          "execution_count": 70
        }
      ],
      "source": [
        "data = [2, 4, 3, 1, 5, 10, 9]\n",
        "\n",
        "data.sort()\n",
        "data"
      ]
    },
    {
      "cell_type": "code",
      "execution_count": null,
      "metadata": {
        "id": "LxX6smVCNhIV"
      },
      "outputs": [],
      "source": [
        ""
      ]
    }
  ],
  "metadata": {
    "colab": {
      "collapsed_sections": [],
      "name": "03_문자열_함수.ipynb",
      "provenance": []
    },
    "kernelspec": {
      "display_name": "Python 3 (ipykernel)",
      "language": "python",
      "name": "python3"
    },
    "language_info": {
      "codemirror_mode": {
        "name": "ipython",
        "version": 3
      },
      "file_extension": ".py",
      "mimetype": "text/x-python",
      "name": "python",
      "nbconvert_exporter": "python",
      "pygments_lexer": "ipython3",
      "version": "3.9.7"
    }
  },
  "nbformat": 4,
  "nbformat_minor": 0
}