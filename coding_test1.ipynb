{
  "cells": [
    {
      "cell_type": "code",
      "execution_count": 5,
      "metadata": {
        "colab": {
          "base_uri": "https://localhost:8080/"
        },
        "id": "iCi_Vw0AFhgO",
        "outputId": "5b2c2c3a-ff3a-4f00-8757-7ba71ca60eba"
      },
      "outputs": [
        {
          "name": "stdout",
          "output_type": "stream",
          "text": [
            "3\n",
            "###"
          ]
        }
      ],
      "source": [
        "# 2046. 스탬프 찍기\n",
        "\n",
        "num = int(input())\n",
        "\n",
        "for i in range(num):\n",
        "  print(\"#\",end='')"
      ]
    },
    {
      "cell_type": "code",
      "execution_count": 11,
      "metadata": {
        "colab": {
          "base_uri": "https://localhost:8080/"
        },
        "id": "neaCIfovGT-D",
        "outputId": "e2f7ed0f-1551-4844-9ae9-9427503256ef"
      },
      "outputs": [
        {
          "name": "stdout",
          "output_type": "stream",
          "text": [
            "8\n",
            "3\n",
            "11\n",
            "5\n",
            "24\n",
            "2\n"
          ]
        }
      ],
      "source": [
        "#1938. 아주 간단한 계산기\n",
        "\n",
        "a = int(input())\n",
        "b = int(input())\n",
        "\n",
        "print(a + b)\n",
        "print(a - b)\n",
        "print(a * b)\n",
        "print(a // b)"
      ]
    },
    {
      "cell_type": "code",
      "execution_count": 22,
      "metadata": {
        "colab": {
          "base_uri": "https://localhost:8080/"
        },
        "id": "Fq5ZDg6NIdI-",
        "outputId": "d49882a1-cc5f-4b32-c1cc-0e1b0a8537e7"
      },
      "outputs": [
        {
          "name": "stdout",
          "output_type": "stream",
          "text": [
            "2\n",
            "5\n",
            "#1 3\n",
            "6\n",
            "#2 -3\n"
          ]
        }
      ],
      "source": [
        "#1986. 지그재그 숫자\n",
        "\n",
        "T = int(input())\n",
        "\n",
        "for t in range(1, T+1):\n",
        "  N = int(input())\n",
        "  sum = 0\n",
        "\n",
        "  for i in range(1, N+1):\n",
        "    if i % 2 == 1:\n",
        "      sum += i\n",
        "    else:\n",
        "      sum -= i\n",
        "\n",
        "  print(\"#%d %d\" %(t, sum))\n"
      ]
    },
    {
      "cell_type": "code",
      "execution_count": null,
      "metadata": {
        "id": "g8PEQeRWLEtl"
      },
      "outputs": [],
      "source": []
    }
  ],
  "metadata": {
    "colab": {
      "name": "coding_test1.ipynb",
      "provenance": []
    },
    "kernelspec": {
      "display_name": "Python 3",
      "name": "python3"
    },
    "language_info": {
      "name": "python"
    }
  },
  "nbformat": 4,
  "nbformat_minor": 0
}
