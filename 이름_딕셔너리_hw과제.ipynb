{
  "cells": [
    {
      "cell_type": "markdown",
      "id": "9c4fba93-7c05-4381-b7d5-5c34d60212a8",
      "metadata": {
        "id": "9c4fba93-7c05-4381-b7d5-5c34d60212a8"
      },
      "source": [
        "# 이름 : "
      ]
    },
    {
      "cell_type": "markdown",
      "id": "d9734719-bd88-4dab-a4e2-6670b13551aa",
      "metadata": {
        "id": "d9734719-bd88-4dab-a4e2-6670b13551aa"
      },
      "source": [
        "1. temp 이름의 비어있는 딕셔너리를 만들라."
      ]
    },
    {
      "cell_type": "code",
      "execution_count": 2,
      "id": "637bae5b-c8a9-448f-8bf0-8478d2dbb0fa",
      "metadata": {
        "id": "637bae5b-c8a9-448f-8bf0-8478d2dbb0fa"
      },
      "outputs": [],
      "source": [
        "temp = {}"
      ]
    },
    {
      "cell_type": "markdown",
      "id": "4c8b364d-ecdd-4269-a10d-031cbf5111bf",
      "metadata": {
        "id": "4c8b364d-ecdd-4269-a10d-031cbf5111bf"
      },
      "source": [
        "2. 다음 아이스크림 이름과 희망 가격을 딕셔너리로 구성하라.\n",
        "\n",
        "메로나 - 1000  \n",
        "폴라포 - 1200  \n",
        "빵빠레 - 1800  "
      ]
    },
    {
      "cell_type": "code",
      "execution_count": 3,
      "id": "6afd381b-6465-424a-bff8-0cf8d5c221ad",
      "metadata": {
        "id": "6afd381b-6465-424a-bff8-0cf8d5c221ad"
      },
      "outputs": [],
      "source": [
        "temp = {'메로나':1000, '폴라포':1200, '빵빠레':1800}"
      ]
    },
    {
      "cell_type": "markdown",
      "id": "18b32e52-c5c8-44c9-beaa-ec838391d04b",
      "metadata": {
        "id": "18b32e52-c5c8-44c9-beaa-ec838391d04b"
      },
      "source": [
        "3. 2번의 딕셔너리에 아래 아이스크림 가격정보를 추가하라.\n",
        "\n",
        "죠스바 - 1200  \n",
        "월드콘 - 1500 \n"
      ]
    },
    {
      "cell_type": "code",
      "execution_count": 5,
      "id": "d1a47c84-da0e-4c68-bc61-8c57c6be9573",
      "metadata": {
        "colab": {
          "base_uri": "https://localhost:8080/"
        },
        "id": "d1a47c84-da0e-4c68-bc61-8c57c6be9573",
        "outputId": "e894b3ab-3917-4c18-b4ec-97f641b20236"
      },
      "outputs": [
        {
          "output_type": "execute_result",
          "data": {
            "text/plain": [
              "{'메로나': 1000, '빵빠레': 1800, '월드콘': 1500, '죠스바': 1200, '폴라포': 1200}"
            ]
          },
          "metadata": {},
          "execution_count": 5
        }
      ],
      "source": [
        "temp['죠스바'] = 1200\n",
        "temp['월드콘'] = 1500\n",
        "temp"
      ]
    },
    {
      "cell_type": "markdown",
      "id": "bfe6d15e-b30e-45f7-a6f4-7e749642ac94",
      "metadata": {
        "id": "bfe6d15e-b30e-45f7-a6f4-7e749642ac94"
      },
      "source": [
        "4. 다음 딕셔너리를 사용하여 메로나 가격을 출력하라.\n",
        "\n",
        "```\n",
        "ice = {'메로나': 1000,\n",
        "       '폴로포': 1200,\n",
        "       '빵빠레': 1800,\n",
        "       '죠스바': 1200,\n",
        "       '월드콘': 1500}\n",
        "```"
      ]
    },
    {
      "cell_type": "code",
      "execution_count": 9,
      "id": "eb7542cc-1aaa-4938-bbcf-5d4c4953df82",
      "metadata": {
        "colab": {
          "base_uri": "https://localhost:8080/"
        },
        "id": "eb7542cc-1aaa-4938-bbcf-5d4c4953df82",
        "outputId": "80cf2feb-0267-4205-de52-7c3e82f98237"
      },
      "outputs": [
        {
          "output_type": "execute_result",
          "data": {
            "text/plain": [
              "1000"
            ]
          },
          "metadata": {},
          "execution_count": 9
        }
      ],
      "source": [
        "ice = {'메로나': 1000,\n",
        "       '폴로포': 1200,\n",
        "       '빵빠레': 1800,\n",
        "       '죠스바': 1200,\n",
        "       '월드콘': 1500}\n",
        "       \n",
        "ice['메로나']"
      ]
    },
    {
      "cell_type": "markdown",
      "id": "72219203-9fb1-4263-8d06-67ceb9e77f7d",
      "metadata": {
        "id": "72219203-9fb1-4263-8d06-67ceb9e77f7d"
      },
      "source": [
        "5. 다음 딕셔너리에서 메로나의 가격을 1300으로 수정하라."
      ]
    },
    {
      "cell_type": "code",
      "execution_count": 11,
      "id": "5eced2b7-8c26-486f-ba34-cdcc86ff95a8",
      "metadata": {
        "colab": {
          "base_uri": "https://localhost:8080/"
        },
        "id": "5eced2b7-8c26-486f-ba34-cdcc86ff95a8",
        "outputId": "15e4eb25-2200-4772-95df-bbb39b533eff"
      },
      "outputs": [
        {
          "output_type": "execute_result",
          "data": {
            "text/plain": [
              "{'메로나': 1300, '빵빠레': 1800, '월드콘': 1500, '죠스바': 1200, '폴로포': 1200}"
            ]
          },
          "metadata": {},
          "execution_count": 11
        }
      ],
      "source": [
        "ice['메로나'] = 1300\n",
        "ice"
      ]
    },
    {
      "cell_type": "markdown",
      "id": "0f4072fa-d32d-4431-b762-3fd34fb97e2d",
      "metadata": {
        "id": "0f4072fa-d32d-4431-b762-3fd34fb97e2d"
      },
      "source": [
        "6. 다음 딕셔너리에서 메로나를 삭제하라."
      ]
    },
    {
      "cell_type": "code",
      "execution_count": 12,
      "id": "412e271d-3cef-42ab-86a8-3866947d3e8b",
      "metadata": {
        "colab": {
          "base_uri": "https://localhost:8080/"
        },
        "id": "412e271d-3cef-42ab-86a8-3866947d3e8b",
        "outputId": "5eca4d30-08b2-4373-b72c-5e0e73793b04"
      },
      "outputs": [
        {
          "output_type": "execute_result",
          "data": {
            "text/plain": [
              "{'빵빠레': 1800, '월드콘': 1500, '죠스바': 1200, '폴로포': 1200}"
            ]
          },
          "metadata": {},
          "execution_count": 12
        }
      ],
      "source": [
        "del ice['메로나']\n",
        "ice"
      ]
    },
    {
      "cell_type": "markdown",
      "id": "fcef8375-d769-4016-9998-0be2e9cc0cc1",
      "metadata": {
        "id": "fcef8375-d769-4016-9998-0be2e9cc0cc1"
      },
      "source": [
        "7. 다음 코드에서 에러가 발생한 원인을 설명하라.\n",
        "\n",
        "```\n",
        ">> icecream = {'폴라포': 1200, '빵빠레': 1800, '월드콘': 1500, '메로나': 1000}\n",
        ">> icecream['누가바']\n",
        "Traceback (most recent call last):\n",
        "  File \"<pyshell#69>\", line 1, in <module>\n",
        "    icecream['누가바']\n",
        "KeyError: '누가바'\n",
        "```"
      ]
    },
    {
      "cell_type": "code",
      "execution_count": null,
      "id": "6d23d338-65de-48f4-b588-3c8569d06c43",
      "metadata": {
        "id": "6d23d338-65de-48f4-b588-3c8569d06c43"
      },
      "outputs": [],
      "source": [
        "# '누가바'는 icecream 딕셔너리에 존재하지 않음"
      ]
    },
    {
      "cell_type": "markdown",
      "id": "4fb925eb-d4a5-4c7b-af78-97a8032b3628",
      "metadata": {
        "id": "4fb925eb-d4a5-4c7b-af78-97a8032b3628"
      },
      "source": [
        "8. 아래의 표에서, 아이스크림 이름을 키값으로, (가격, 재고) 리스트를 딕셔너리의 값으로 저장하라. 딕셔너리의 이름은 inventory로 한다.\n",
        "\n",
        "이름, 가격, 재고  \n",
        "메로나, 300, 20  \n",
        "비비빅, 400, 3  \n",
        "죠스바, 250, 100  \n"
      ]
    },
    {
      "cell_type": "code",
      "execution_count": 42,
      "id": "52092b4e-8a9a-46e3-8e98-bb2781c2ead0",
      "metadata": {
        "colab": {
          "base_uri": "https://localhost:8080/"
        },
        "id": "52092b4e-8a9a-46e3-8e98-bb2781c2ead0",
        "outputId": "48a13ef7-f2aa-4e80-9bb5-d3637c30bc1f"
      },
      "outputs": [
        {
          "output_type": "execute_result",
          "data": {
            "text/plain": [
              "{'메로나': [300, 20], '비비빅': [400, 3], '죠스바': [250, 100]}"
            ]
          },
          "metadata": {},
          "execution_count": 42
        }
      ],
      "source": [
        "inventory = {'메로나':[300,20], '비비빅':[400,3], '죠스바':[250,100]}\n",
        "inventory"
      ]
    },
    {
      "cell_type": "markdown",
      "id": "30b4a534-55f6-47c9-a7d7-699d26701117",
      "metadata": {
        "id": "30b4a534-55f6-47c9-a7d7-699d26701117"
      },
      "source": [
        "9. inventory 딕셔너리에서 메로나의 가격을 화면에 출력하라."
      ]
    },
    {
      "cell_type": "code",
      "execution_count": 43,
      "id": "1fea946e-3519-42dd-b2ae-607a6fb2bd95",
      "metadata": {
        "colab": {
          "base_uri": "https://localhost:8080/"
        },
        "id": "1fea946e-3519-42dd-b2ae-607a6fb2bd95",
        "outputId": "919e4138-4edd-4d48-b2db-9d8c585b7e65"
      },
      "outputs": [
        {
          "output_type": "execute_result",
          "data": {
            "text/plain": [
              "300"
            ]
          },
          "metadata": {},
          "execution_count": 43
        }
      ],
      "source": [
        "inventory['메로나'][0]"
      ]
    },
    {
      "cell_type": "markdown",
      "id": "5d8c74a6-6b84-4159-8197-6cedb1e70499",
      "metadata": {
        "id": "5d8c74a6-6b84-4159-8197-6cedb1e70499"
      },
      "source": [
        "10. inventory 딕셔너리에서 메로나의 재고를 화면에 출력하라."
      ]
    },
    {
      "cell_type": "code",
      "execution_count": 44,
      "id": "c3aaf75c-1153-4834-ba14-8a24fbe2e977",
      "metadata": {
        "colab": {
          "base_uri": "https://localhost:8080/"
        },
        "id": "c3aaf75c-1153-4834-ba14-8a24fbe2e977",
        "outputId": "5b3a0150-932a-443b-aa8f-6be6000b56de"
      },
      "outputs": [
        {
          "output_type": "execute_result",
          "data": {
            "text/plain": [
              "20"
            ]
          },
          "metadata": {},
          "execution_count": 44
        }
      ],
      "source": [
        "inventory['메로나'][1]"
      ]
    },
    {
      "cell_type": "markdown",
      "id": "7d32ecb2-b118-43fd-b4f4-2ae820e9d9c4",
      "metadata": {
        "id": "7d32ecb2-b118-43fd-b4f4-2ae820e9d9c4"
      },
      "source": [
        "11. inventory 딕셔너리에 아래 데이터를 추가하라.\n",
        "\n",
        "월드콘, 500, 7\n"
      ]
    },
    {
      "cell_type": "code",
      "execution_count": 45,
      "id": "0f1112b7-117c-4392-b391-7c31fd772ba2",
      "metadata": {
        "colab": {
          "base_uri": "https://localhost:8080/"
        },
        "id": "0f1112b7-117c-4392-b391-7c31fd772ba2",
        "outputId": "81b5259b-ffc3-477e-8fe9-c393c181f1f6"
      },
      "outputs": [
        {
          "output_type": "execute_result",
          "data": {
            "text/plain": [
              "{'메로나': [300, 20], '비비빅': [400, 3], '월드콘': [500, 7], '죠스바': [250, 100]}"
            ]
          },
          "metadata": {},
          "execution_count": 45
        }
      ],
      "source": [
        "inventory['월드콘'] = [500,7]\n",
        "inventory"
      ]
    },
    {
      "cell_type": "markdown",
      "id": "b991af10-087f-43c5-9dcc-309b5d292cd4",
      "metadata": {
        "id": "b991af10-087f-43c5-9dcc-309b5d292cd4"
      },
      "source": [
        "12. 다음의 딕셔너리로부터 key 값으로만 구성된 리스트를 생성하라."
      ]
    },
    {
      "cell_type": "code",
      "execution_count": 46,
      "id": "1bf5097b-c66c-494f-8c2a-5b9272f7bb65",
      "metadata": {
        "colab": {
          "base_uri": "https://localhost:8080/"
        },
        "id": "1bf5097b-c66c-494f-8c2a-5b9272f7bb65",
        "outputId": "86ef5833-a9a4-409e-d648-7a52cc58fbd7"
      },
      "outputs": [
        {
          "output_type": "execute_result",
          "data": {
            "text/plain": [
              "['메로나', '비비빅', '죠스바', '월드콘']"
            ]
          },
          "metadata": {},
          "execution_count": 46
        }
      ],
      "source": [
        "list(inventory.keys())"
      ]
    },
    {
      "cell_type": "markdown",
      "id": "f8303f47-9d02-49ad-9ced-25a34a12878c",
      "metadata": {
        "id": "f8303f47-9d02-49ad-9ced-25a34a12878c"
      },
      "source": [
        "13. 다음의 딕셔너리에서 values 값으로만 구성된 리스트를 생성하라."
      ]
    },
    {
      "cell_type": "code",
      "execution_count": 47,
      "id": "5a5462e9-623d-450e-8692-5486b28e71ca",
      "metadata": {
        "colab": {
          "base_uri": "https://localhost:8080/"
        },
        "id": "5a5462e9-623d-450e-8692-5486b28e71ca",
        "outputId": "f9012701-2fec-40b3-c0d2-df02ff7b3503"
      },
      "outputs": [
        {
          "output_type": "execute_result",
          "data": {
            "text/plain": [
              "[[300, 20], [400, 3], [250, 100], [500, 7]]"
            ]
          },
          "metadata": {},
          "execution_count": 47
        }
      ],
      "source": [
        "list(inventory.values())"
      ]
    },
    {
      "cell_type": "markdown",
      "id": "50a88e14-654c-4443-95ab-44628102c482",
      "metadata": {
        "id": "50a88e14-654c-4443-95ab-44628102c482"
      },
      "source": [
        "14. icecream 딕셔너리에서 아이스크림 판매 금액의 총합을 출력하라."
      ]
    },
    {
      "cell_type": "code",
      "execution_count": 53,
      "id": "9045bce7-88f5-4dc7-be20-2d7c3829e12d",
      "metadata": {
        "colab": {
          "base_uri": "https://localhost:8080/"
        },
        "id": "9045bce7-88f5-4dc7-be20-2d7c3829e12d",
        "outputId": "d86d7a04-8d4c-4b32-d1f7-8670a18b3438"
      },
      "outputs": [
        {
          "output_type": "execute_result",
          "data": {
            "text/plain": [
              "6700"
            ]
          },
          "metadata": {},
          "execution_count": 53
        }
      ],
      "source": [
        "sum(icecream.values())"
      ]
    },
    {
      "cell_type": "markdown",
      "id": "f9a7ed7f-7e6a-4443-8849-2123df546996",
      "metadata": {
        "id": "f9a7ed7f-7e6a-4443-8849-2123df546996"
      },
      "source": [
        "15. 아래의 new_product 딕셔너리를 다음 icecream 딕셔너리에 추가하라.\n",
        "\n",
        "```\n",
        "icecream = {'탱크보이': 1200, '폴라포': 1200, '빵빠레': 1800, '월드콘': 1500, '메로나': 1000}\n",
        "new_product = {'팥빙수':2700, '아맛나':1000}\n",
        "```"
      ]
    },
    {
      "cell_type": "code",
      "execution_count": 40,
      "id": "bfc0ecb0-fd63-456e-ba14-e75625ccb33c",
      "metadata": {
        "id": "bfc0ecb0-fd63-456e-ba14-e75625ccb33c"
      },
      "outputs": [],
      "source": [
        "icecream = {'탱크보이': 1200, '폴라포': 1200, '빵빠레': 1800, '월드콘': 1500, '메로나': 1000}\n",
        "new_product = {'팥빙수':2700, '아맛나':1000}\n",
        "\n"
      ]
    },
    {
      "cell_type": "code",
      "source": [
        "icecream.update(new_product)\n",
        "icecream"
      ],
      "metadata": {
        "colab": {
          "base_uri": "https://localhost:8080/"
        },
        "id": "JkffUmIOYt4o",
        "outputId": "3345fa47-f042-4526-e49a-7567a90b6154"
      },
      "id": "JkffUmIOYt4o",
      "execution_count": 55,
      "outputs": [
        {
          "output_type": "execute_result",
          "data": {
            "text/plain": [
              "{'메로나': 1000,\n",
              " '빵빠레': 1800,\n",
              " '아맛나': 1000,\n",
              " '월드콘': 1500,\n",
              " '탱크보이': 1200,\n",
              " '팥빙수': 2700,\n",
              " '폴라포': 1200}"
            ]
          },
          "metadata": {},
          "execution_count": 55
        }
      ]
    },
    {
      "cell_type": "code",
      "source": [
        ""
      ],
      "metadata": {
        "id": "uNVWiYGvidUN"
      },
      "id": "uNVWiYGvidUN",
      "execution_count": null,
      "outputs": []
    }
  ],
  "metadata": {
    "kernelspec": {
      "display_name": "Python 3 (ipykernel)",
      "language": "python",
      "name": "python3"
    },
    "language_info": {
      "codemirror_mode": {
        "name": "ipython",
        "version": 3
      },
      "file_extension": ".py",
      "mimetype": "text/x-python",
      "name": "python",
      "nbconvert_exporter": "python",
      "pygments_lexer": "ipython3",
      "version": "3.9.7"
    },
    "colab": {
      "name": "이름_딕셔너리_hw과제.ipynb",
      "provenance": []
    }
  },
  "nbformat": 4,
  "nbformat_minor": 5
}