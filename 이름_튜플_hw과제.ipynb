{
  "cells": [
    {
      "cell_type": "markdown",
      "id": "db966b77-ae2d-48f4-a12c-b456162eaaf5",
      "metadata": {
        "id": "db966b77-ae2d-48f4-a12c-b456162eaaf5"
      },
      "source": [
        "# 이름 : "
      ]
    },
    {
      "cell_type": "markdown",
      "id": "5d056e60-e8b3-47e4-9bdf-bb170a4f9aeb",
      "metadata": {
        "id": "5d056e60-e8b3-47e4-9bdf-bb170a4f9aeb"
      },
      "source": [
        "1. my_variable 이름의 비어있는 튜플을 만들라."
      ]
    },
    {
      "cell_type": "code",
      "execution_count": 1,
      "id": "aae7a501-7a2e-4cc7-9b7b-0008d4faaba7",
      "metadata": {
        "id": "aae7a501-7a2e-4cc7-9b7b-0008d4faaba7"
      },
      "outputs": [],
      "source": [
        "my_variable = ()"
      ]
    },
    {
      "cell_type": "markdown",
      "id": "cafb3b08-86ee-47fd-a5f8-cd06cdf1e71f",
      "metadata": {
        "id": "cafb3b08-86ee-47fd-a5f8-cd06cdf1e71f"
      },
      "source": [
        "2. 2016년 11월 영화 예매 순위 기준 top3는 다음과 같다. 영화 제목을 movie_rank 이름의 튜플에 저장하라. (순위 정보는 저장하지 않는다.)"
      ]
    },
    {
      "cell_type": "code",
      "execution_count": 2,
      "id": "9fbd0b9e-2b5b-4345-8280-f5d495a22fdc",
      "metadata": {
        "id": "9fbd0b9e-2b5b-4345-8280-f5d495a22fdc"
      },
      "outputs": [],
      "source": [
        "movie_rank = ('영화', '제목이', '뭘까용')"
      ]
    },
    {
      "cell_type": "markdown",
      "id": "27335dc9-1411-4a55-a5d9-2b03c7af19cc",
      "metadata": {
        "id": "27335dc9-1411-4a55-a5d9-2b03c7af19cc"
      },
      "source": [
        "3. 숫자 1 이 저장된 튜플을 생성하라."
      ]
    },
    {
      "cell_type": "code",
      "execution_count": 3,
      "id": "fd67cfff-4318-4498-8f7c-de6362353d31",
      "metadata": {
        "id": "fd67cfff-4318-4498-8f7c-de6362353d31"
      },
      "outputs": [],
      "source": [
        "num = (1,)"
      ]
    },
    {
      "cell_type": "markdown",
      "id": "dde7bdfb-d495-44ff-848e-e275204cd87e",
      "metadata": {
        "id": "dde7bdfb-d495-44ff-848e-e275204cd87e"
      },
      "source": [
        "4. 다음 코드를 실행해보고 오류가 발생하는 원인을 설명하라.\n",
        "\n",
        "```\n",
        ">> t = (1, 2, 3)\n",
        ">> t[0] = 'a'\n",
        "Traceback (most recent call last):\n",
        "  File \"<pyshell#46>\", line 1, in <module>\n",
        "    t[0] = 'a'\n",
        "TypeError: 'tuple' object does not support item assignmen\n",
        "\n",
        "```"
      ]
    },
    {
      "cell_type": "code",
      "execution_count": null,
      "id": "8e1ef9f6-5755-4dfb-881c-4206fab90e70",
      "metadata": {
        "id": "8e1ef9f6-5755-4dfb-881c-4206fab90e70"
      },
      "outputs": [],
      "source": [
        "#튜플은 수정 안되기 때문에 오류남"
      ]
    },
    {
      "cell_type": "markdown",
      "id": "12e7da02-11fd-4902-8fb5-246fcdacd6ed",
      "metadata": {
        "id": "12e7da02-11fd-4902-8fb5-246fcdacd6ed"
      },
      "source": [
        "5. 아래와 같이 t에는 1, 2, 3, 4 데이터가 바인딩되어 있다. t가 바인딩하는 데이터 타입은 무엇인가?\n",
        "\n",
        "    ```\n",
        "    t = 1, 2, 3, 4\n",
        "    ```"
      ]
    },
    {
      "cell_type": "code",
      "execution_count": 5,
      "id": "8a531cfd-6268-4ea0-95d8-067f25a1ab16",
      "metadata": {
        "colab": {
          "base_uri": "https://localhost:8080/"
        },
        "id": "8a531cfd-6268-4ea0-95d8-067f25a1ab16",
        "outputId": "da77574b-eadb-4993-f4c3-4c2f899c2ffd"
      },
      "outputs": [
        {
          "output_type": "execute_result",
          "data": {
            "text/plain": [
              "tuple"
            ]
          },
          "metadata": {},
          "execution_count": 5
        }
      ],
      "source": [
        "t = 1, 2, 3, 4\n",
        "\n",
        "type(t)"
      ]
    },
    {
      "cell_type": "markdown",
      "id": "d0ef93f6-fd60-4dfa-a672-db30efcfafca",
      "metadata": {
        "id": "d0ef93f6-fd60-4dfa-a672-db30efcfafca"
      },
      "source": [
        "6. 변수 t에는 아래와 같은 값이 저장되어 있다. 변수 t가 ('A', 'b', 'c') 튜플을 가리키도록 수정 하라.\n",
        "\n",
        "```\n",
        "t = ('a', 'b', 'c')\n",
        "\n",
        "```"
      ]
    },
    {
      "cell_type": "code",
      "execution_count": 6,
      "id": "8a7c386f-af55-4681-b29e-9f7bec4cb958",
      "metadata": {
        "colab": {
          "base_uri": "https://localhost:8080/"
        },
        "id": "8a7c386f-af55-4681-b29e-9f7bec4cb958",
        "outputId": "d646fd56-95e4-4fad-848e-0a235ab90c8c"
      },
      "outputs": [
        {
          "output_type": "execute_result",
          "data": {
            "text/plain": [
              "('A', 'b', 'c')"
            ]
          },
          "metadata": {},
          "execution_count": 6
        }
      ],
      "source": [
        "t = ('a', 'b', 'c')\n",
        "\n",
        "t1 = ('A', 'b', 'c')\n",
        "\n",
        "t = t1\n",
        "\n",
        "t"
      ]
    },
    {
      "cell_type": "markdown",
      "id": "5915be75-6dd4-40b2-b2b0-b38680f14faf",
      "metadata": {
        "id": "5915be75-6dd4-40b2-b2b0-b38680f14faf"
      },
      "source": [
        "7. 다음 튜플을 리스트로 변환하라.  \n",
        "```\n",
        "interest = ('삼성전자', 'LG전자', 'SK Hynix')\n",
        "```"
      ]
    },
    {
      "cell_type": "code",
      "execution_count": 9,
      "id": "979b2f65-8dbe-41e0-880a-d1bf5f9891cc",
      "metadata": {
        "colab": {
          "base_uri": "https://localhost:8080/"
        },
        "id": "979b2f65-8dbe-41e0-880a-d1bf5f9891cc",
        "outputId": "6d02822e-83e0-43a2-f15b-00f38f862726"
      },
      "outputs": [
        {
          "output_type": "execute_result",
          "data": {
            "text/plain": [
              "['삼성전자', 'LG전자', 'SK Hynix']"
            ]
          },
          "metadata": {},
          "execution_count": 9
        }
      ],
      "source": [
        "interest = ('삼성전자', 'LG전자', 'SK Hynix')\n",
        "\n",
        "list(interest)"
      ]
    },
    {
      "cell_type": "markdown",
      "id": "9740665b-9fa2-4e0b-b6f3-aece9c5f04a5",
      "metadata": {
        "id": "9740665b-9fa2-4e0b-b6f3-aece9c5f04a5"
      },
      "source": [
        "8. 다음 리스트를 튜플로 변경하라.\n",
        "```\n",
        "interest = ['삼성전자', 'LG전자', 'SK Hynix']\n",
        "```"
      ]
    },
    {
      "cell_type": "code",
      "execution_count": 11,
      "id": "98698f32-1aaf-4543-911b-9a92311df5dc",
      "metadata": {
        "colab": {
          "base_uri": "https://localhost:8080/"
        },
        "id": "98698f32-1aaf-4543-911b-9a92311df5dc",
        "outputId": "03da8bf5-1e81-4710-e32e-96243fee318b"
      },
      "outputs": [
        {
          "output_type": "execute_result",
          "data": {
            "text/plain": [
              "('삼성전자', 'LG전자', 'SK Hynix')"
            ]
          },
          "metadata": {},
          "execution_count": 11
        }
      ],
      "source": [
        "interest = ['삼성전자', 'LG전자', 'SK Hynix']\n",
        "tuple(interest)"
      ]
    },
    {
      "cell_type": "markdown",
      "id": "bec008ff-521f-4935-b779-fdfc1c1130a5",
      "metadata": {
        "id": "bec008ff-521f-4935-b779-fdfc1c1130a5"
      },
      "source": [
        "9. 다음 코드의 실행 결과를 예상하라.\n",
        "\n",
        "```\n",
        "temp = ('apple', 'banana', 'cake')\n",
        "a, b, c = temp\n",
        "print(a, b, c)\n",
        "```"
      ]
    },
    {
      "cell_type": "code",
      "execution_count": 12,
      "id": "cc439d16-a555-4bbe-85d6-54335a873052",
      "metadata": {
        "colab": {
          "base_uri": "https://localhost:8080/"
        },
        "id": "cc439d16-a555-4bbe-85d6-54335a873052",
        "outputId": "84ca56ac-caf9-4eb2-b8ce-c85c926c89c7"
      },
      "outputs": [
        {
          "output_type": "stream",
          "name": "stdout",
          "text": [
            "apple banana cake\n"
          ]
        }
      ],
      "source": [
        "apple banana cake  <- 나올거어어ㅓㄹ ㅎㅎㅎㅎㅎㅎㅎ "
      ]
    },
    {
      "cell_type": "markdown",
      "id": "c99c8197-06ed-4a31-99d3-9d6ceaa0ded4",
      "metadata": {
        "id": "c99c8197-06ed-4a31-99d3-9d6ceaa0ded4"
      },
      "source": [
        ""
      ]
    }
  ],
  "metadata": {
    "kernelspec": {
      "display_name": "Python 3 (ipykernel)",
      "language": "python",
      "name": "python3"
    },
    "language_info": {
      "codemirror_mode": {
        "name": "ipython",
        "version": 3
      },
      "file_extension": ".py",
      "mimetype": "text/x-python",
      "name": "python",
      "nbconvert_exporter": "python",
      "pygments_lexer": "ipython3",
      "version": "3.9.7"
    },
    "colab": {
      "name": "이름_튜플_hw과제.ipynb",
      "provenance": []
    }
  },
  "nbformat": 4,
  "nbformat_minor": 5
}