{
  "cells": [
    {
      "cell_type": "markdown",
      "id": "95afcc18-5590-4d8e-a3d1-f2e2a1a1f351",
      "metadata": {
        "id": "95afcc18-5590-4d8e-a3d1-f2e2a1a1f351"
      },
      "source": [
        "# 1926. 간단한 369게임\n",
        "\n",
        "3 6 9 게임을 프로그램으로 제작중이다. 게임 규칙은 다음과 같다.\n",
        "\n",
        " \n",
        "\n",
        "1. 숫자 1부터 순서대로 차례대로 말하되, “3” “6” “9” 가 들어가 있는 수는 말하지 않는다.\n",
        "\n",
        "  1 2 3 4 5 6 7 8 9…\n",
        "\n",
        "2. \"3\" \"6\" \"9\"가 들어가 있는 수를 말하지 않는대신, 박수를 친다. 이 때, 박수는 해당 숫자가 들어간 개수만큼 쳐야 한다.  \n",
        "예를 들어 숫자 35의 경우 박수 한 번, 숫자 36의 경우 박수를 두번 쳐야 한다.\n",
        " \n",
        "\n",
        "입력으로 정수 N 이 주어졌을 때, 1~N 까지의 숫자를\n",
        "\n",
        "게임 규칙에 맞게 출력하는 프로그램을 작성하라.\n",
        "\n",
        "박수를 치는 부분은 숫자 대신, 박수 횟수에 맞게 “-“ 를 출력한다.\n",
        "\n",
        "여기서 주의해야 할 것은 박수 한 번 칠 때는 - 이며, 박수를 두 번 칠 때는 - - 가 아닌 -- 이다. "
      ]
    },
    {
      "cell_type": "code",
      "execution_count": 11,
      "id": "fd5e9342-3f35-469c-8b4c-fd3b865a6bf1",
      "metadata": {
        "colab": {
          "base_uri": "https://localhost:8080/"
        },
        "id": "fd5e9342-3f35-469c-8b4c-fd3b865a6bf1",
        "outputId": "c1c00b39-2a48-4b77-8f12-2b273246a420"
      },
      "outputs": [
        {
          "output_type": "stream",
          "name": "stdout",
          "text": [
            "10\n",
            "0\n"
          ]
        }
      ],
      "source": [
        "N = int(input())\n",
        "\n",
        "for i in range(1, N+1):\n",
        "  clap = 0\n",
        "  j = str(i)\n",
        "  if(j == '3'):\n",
        "    clap += 1\n",
        "  elif(j == '6'):\n",
        "    clap += 1\n",
        "  elif(j == '9'):\n",
        "    clap += 1\n",
        "\n",
        "print(clap)\n",
        "\n",
        "#  if(clap == 0):\n",
        "#    print(j, end = \" \")\n",
        "#  else:\n",
        "#    print('-'*clap, end = \" \")\n",
        "\n",
        "\n"
      ]
    },
    {
      "cell_type": "markdown",
      "id": "3cfe48cf-c2bb-4cb5-a35b-9b0ec71bb39a",
      "metadata": {
        "id": "3cfe48cf-c2bb-4cb5-a35b-9b0ec71bb39a"
      },
      "source": [
        "# 2043. 서랍의 비밀번호\n",
        "\n",
        "서랍의 비밀번호가 생각이 나지 않는다.\n",
        "\n",
        "비밀번호 P는 000부터 999까지 번호 중의 하나이다.\n",
        "\n",
        "주어지는 번호 K부터 1씩 증가하며 비밀번호를 확인해 볼 생각이다.\n",
        "\n",
        "예를 들어 비밀번호 P가 123 이고 주어지는 번호 K가 100 일 때, 100부터 123까지 24번 확인하여 비밀번호를 맞출 수 있다.\n",
        "\n",
        "P와 K가 주어지면 K부터 시작하여 몇 번 만에 P를 맞출 수 있는지 알아보자."
      ]
    },
    {
      "cell_type": "code",
      "execution_count": 13,
      "id": "8bcb152e-2af2-4772-96cd-fb0fedc62727",
      "metadata": {
        "colab": {
          "base_uri": "https://localhost:8080/"
        },
        "id": "8bcb152e-2af2-4772-96cd-fb0fedc62727",
        "outputId": "59c9f7ba-717e-450a-d4ba-abab6618fa9a"
      },
      "outputs": [
        {
          "output_type": "stream",
          "name": "stdout",
          "text": [
            "123\n",
            "100\n",
            "24\n"
          ]
        }
      ],
      "source": [
        "P = int(input())\n",
        "K = int(input())\n",
        "\n",
        "num = P - K + 1\n",
        "\n",
        "print(num)"
      ]
    },
    {
      "cell_type": "markdown",
      "id": "f521e748-44af-46e0-af1b-05b78f76d3ec",
      "metadata": {
        "id": "f521e748-44af-46e0-af1b-05b78f76d3ec"
      },
      "source": [
        "# 1933. 간단한 N 의 약수\n",
        "\n",
        "입력으로 1개의 정수 N 이 주어진다.\n",
        "\n",
        "정수 N 의 약수를 오름차순으로 출력하는 프로그램을 작성하라"
      ]
    },
    {
      "cell_type": "code",
      "execution_count": 15,
      "id": "1b8a7b9c-a130-48c0-bd10-34ff7a24a9c5",
      "metadata": {
        "colab": {
          "base_uri": "https://localhost:8080/"
        },
        "id": "1b8a7b9c-a130-48c0-bd10-34ff7a24a9c5",
        "outputId": "5a844d1b-2903-4506-86d3-7d52bb80af9b"
      },
      "outputs": [
        {
          "output_type": "stream",
          "name": "stdout",
          "text": [
            "12\n",
            "1 2 3 4 6 12 "
          ]
        }
      ],
      "source": [
        "N = int(input())\n",
        "\n",
        "for i in range(1, N+1):\n",
        "  if(N % i == 0):\n",
        "    print(i, end = \" \")"
      ]
    },
    {
      "cell_type": "markdown",
      "id": "58eac781-742a-4cd8-8a14-77dd8faa3371",
      "metadata": {
        "id": "58eac781-742a-4cd8-8a14-77dd8faa3371"
      },
      "source": [
        "# 1545. 거꾸로 출력해 보아요\n",
        "\n",
        "주어진 숫자부터 0까지 순서대로 찍어보세요\n",
        "\n",
        "아래는 입력된 숫자가 N일 때 거꾸로 출력하는 예시입니다\n",
        "\n",
        "### [N] [N-1] [N-2] ... [0]"
      ]
    },
    {
      "cell_type": "code",
      "execution_count": 16,
      "id": "0c5db3cc-aca1-48b1-a037-b29f29c63f3b",
      "metadata": {
        "colab": {
          "base_uri": "https://localhost:8080/"
        },
        "id": "0c5db3cc-aca1-48b1-a037-b29f29c63f3b",
        "outputId": "11167ca0-b415-4510-c8c2-d7e205092715"
      },
      "outputs": [
        {
          "output_type": "stream",
          "name": "stdout",
          "text": [
            "10\n",
            "10 9 8 7 6 5 4 3 2 1 0 "
          ]
        }
      ],
      "source": [
        "N = int(input())\n",
        "\n",
        "for i in range(N, -1, -1):\n",
        "  print(i, end = \" \")\n"
      ]
    },
    {
      "cell_type": "markdown",
      "id": "c1a37baf-6a39-4adf-820d-81af6decfc33",
      "metadata": {
        "id": "c1a37baf-6a39-4adf-820d-81af6decfc33"
      },
      "source": [
        "# 1979. 어디에 단어가 들어갈 수 있을까\n",
        "\n",
        "N X N 크기의 단어 퍼즐을 만들려고 한다. 입력으로 단어 퍼즐의 모양이 주어진다.\n",
        "\n",
        "주어진 퍼즐 모양에서 특정 길이 K를 갖는 단어가 들어갈 수 있는 자리의 수를 출력하는 프로그램을 작성하라.\n",
        "\n",
        "[예제]\n",
        "\n",
        "N = 5, K = 3 이고, 퍼즐의 모양이 아래 그림과 같이 주어졌을 때\n",
        " \n",
        "![1.JPG](attachment:678b00e6-98b4-4dab-a570-1a1d179e3e8e.JPG)\n",
        "\n",
        "\n",
        "길이가 3 인 단어가 들어갈 수 있는 자리는 2 곳(가로 1번, 가로 4번)이 된다.\n",
        "\n",
        "![2.JPG](attachment:4dbc018d-06cb-42cf-9ba8-d0b596adb832.JPG)\n",
        "\n",
        "\n",
        "[제약 사항]\n",
        "\n",
        "1. N은 5 이상 15 이하의 정수이다. (5 ≤ N ≤ 15)\n",
        "\n",
        "2. K는 2 이상 N 이하의 정수이다. (2 ≤ K ≤ N)\n",
        "\n",
        "\n",
        "[입력]\n",
        "\n",
        "입력은 첫 줄에 총 테스트 케이스의 개수 T가 온다.\n",
        "\n",
        "다음 줄부터 각 테스트 케이스가 주어진다.\n",
        "\n",
        "테스트 케이스의 첫 번째 줄에는 단어 퍼즐의 가로, 세로 길이 N 과, 단어의 길이 K 가 주어진다.\n",
        "\n",
        "테스트 케이스의 두 번째 줄부터 퍼즐의 모양이 2차원 정보로 주어진다.\n",
        "\n",
        "퍼즐의 각 셀 중, 흰색 부분은 1, 검은색 부분은 0 으로 주어진다.\n"
      ]
    },
    {
      "cell_type": "code",
      "execution_count": null,
      "id": "0d65d651-9de5-4c10-9be3-fa16c555f63c",
      "metadata": {
        "id": "0d65d651-9de5-4c10-9be3-fa16c555f63c"
      },
      "outputs": [],
      "source": [
        "#"
      ]
    }
  ],
  "metadata": {
    "kernelspec": {
      "display_name": "Python 3 (ipykernel)",
      "language": "python",
      "name": "python3"
    },
    "language_info": {
      "codemirror_mode": {
        "name": "ipython",
        "version": 3
      },
      "file_extension": ".py",
      "mimetype": "text/x-python",
      "name": "python",
      "nbconvert_exporter": "python",
      "pygments_lexer": "ipython3",
      "version": "3.9.7"
    },
    "colab": {
      "name": "코딩테스트_hw과제.ipynb",
      "provenance": []
    }
  },
  "nbformat": 4,
  "nbformat_minor": 5
}